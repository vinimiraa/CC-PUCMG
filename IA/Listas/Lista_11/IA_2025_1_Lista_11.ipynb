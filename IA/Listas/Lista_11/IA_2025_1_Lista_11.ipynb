{
  "nbformat": 4,
  "nbformat_minor": 0,
  "metadata": {
    "colab": {
      "provenance": []
    },
    "kernelspec": {
      "name": "python3",
      "display_name": "Python 3"
    },
    "language_info": {
      "name": "python"
    }
  },
  "cells": [
    {
      "cell_type": "markdown",
      "source": [
        "**Inteligência Artificial**\n",
        "\n",
        "**812839 - Vinícius Miranda de Araújo**\n",
        "\n",
        "**Lista de Exercícios 11**\n",
        "\n",
        "---\n",
        "---"
      ],
      "metadata": {
        "id": "fub0brLnbHc5"
      }
    },
    {
      "cell_type": "code",
      "source": [
        "!pip install scikit-optimize"
      ],
      "metadata": {
        "colab": {
          "base_uri": "https://localhost:8080/"
        },
        "id": "R7uqwXeyJC_w",
        "outputId": "52ec7499-c064-4900-befd-83f06192ee7c"
      },
      "execution_count": 323,
      "outputs": [
        {
          "output_type": "stream",
          "name": "stdout",
          "text": [
            "Requirement already satisfied: scikit-optimize in /usr/local/lib/python3.11/dist-packages (0.10.2)\n",
            "Requirement already satisfied: joblib>=0.11 in /usr/local/lib/python3.11/dist-packages (from scikit-optimize) (1.5.0)\n",
            "Requirement already satisfied: pyaml>=16.9 in /usr/local/lib/python3.11/dist-packages (from scikit-optimize) (25.5.0)\n",
            "Requirement already satisfied: numpy>=1.20.3 in /usr/local/lib/python3.11/dist-packages (from scikit-optimize) (2.0.2)\n",
            "Requirement already satisfied: scipy>=1.1.0 in /usr/local/lib/python3.11/dist-packages (from scikit-optimize) (1.15.3)\n",
            "Requirement already satisfied: scikit-learn>=1.0.0 in /usr/local/lib/python3.11/dist-packages (from scikit-optimize) (1.6.1)\n",
            "Requirement already satisfied: packaging>=21.3 in /usr/local/lib/python3.11/dist-packages (from scikit-optimize) (24.2)\n",
            "Requirement already satisfied: PyYAML in /usr/local/lib/python3.11/dist-packages (from pyaml>=16.9->scikit-optimize) (6.0.2)\n",
            "Requirement already satisfied: threadpoolctl>=3.1.0 in /usr/local/lib/python3.11/dist-packages (from scikit-learn>=1.0.0->scikit-optimize) (3.6.0)\n"
          ]
        }
      ]
    },
    {
      "cell_type": "code",
      "source": [
        "import pandas as pd\n",
        "import numpy as np\n",
        "from sklearn.preprocessing import LabelEncoder\n",
        "from sklearn.preprocessing import StandardScaler\n",
        "import pickle\n",
        "from sklearn.ensemble import RandomForestClassifier\n",
        "from skopt import BayesSearchCV\n",
        "from skopt.space import Integer, Real, Categorical\n",
        "from sklearn.neural_network import MLPClassifier\n",
        "from sklearn.metrics import accuracy_score, classification_report, confusion_matrix\n",
        "from sklearn.cluster import DBSCAN\n",
        "from sklearn.metrics import silhouette_score\n",
        "from sklearn.cluster import KMeans\n",
        "from sklearn.decomposition import PCA\n",
        "import matplotlib.pyplot as plt\n",
        "import seaborn as sns\n",
        "from mlxtend.frequent_patterns import apriori, association_rules\n",
        "from mlxtend.preprocessing import TransactionEncoder"
      ],
      "metadata": {
        "id": "9YAglnMXeFZf"
      },
      "execution_count": 324,
      "outputs": []
    },
    {
      "cell_type": "markdown",
      "source": [
        "## Base de Dados - Titanic"
      ],
      "metadata": {
        "id": "OMYQA1CCbKsS"
      }
    },
    {
      "cell_type": "markdown",
      "source": [
        "- Base disponível em: [Kaggle](https://www.kaggle.com/c/titanic/data).\n",
        "\n",
        "- Dicionário:\n",
        "\n",
        "| Variável   | Definição | Chave / Valores |\n",
        "| ---------- | --------- | --------------- |\n",
        "| survival   | Sobreviveu        | 0 = Não, 1 = Sim |\n",
        "| pclass     | Classe do bilhete | 1 = 1ª, 2 = 2ª, 3 = 3ª |\n",
        "| sex        | Sexo                                     | - |\n",
        "| age        | Idade em anos                            | - |\n",
        "| sibsp      | Nº de irmãos/cônjuges a bordo do Titanic | - |\n",
        "| parch      | Nº de pais/filhos a bordo do Titanic     | - |\n",
        "| ticket     | Número do bilhete                        | - |\n",
        "| fare       | Tarifa paga pelo passageiro              | - |\n",
        "| cabin      | Número da cabine                         | - |\n",
        "| embarked   | Porto de embarque | C = Cherbourg, Q = Queenstown, S = Southampton |"
      ],
      "metadata": {
        "id": "XgqVq-CVbRDX"
      }
    },
    {
      "cell_type": "markdown",
      "source": [
        "### Carregando a Base de Dados"
      ],
      "metadata": {
        "id": "SKmFSt2leLf0"
      }
    },
    {
      "cell_type": "code",
      "source": [
        "# Arquivo de treino\n",
        "training_data = pd.read_csv('titanic/train.csv')\n",
        "\n",
        "# Arquivo de teste\n",
        "test_data = pd.read_csv('titanic/test.csv')\n",
        "\n",
        "# Arquivo com a resposta correta do conjunto de teste\n",
        "truth_table = pd.read_csv('titanic/gender_submission.csv')\n",
        "\n",
        "# --- Adicionando coluna 'Survived' ao test_data ---\n",
        "test_data.insert(0, 'Survived', np.nan)"
      ],
      "metadata": {
        "id": "JukXUlBKeAB-"
      },
      "execution_count": 325,
      "outputs": []
    },
    {
      "cell_type": "markdown",
      "source": [
        "## Análise Exploratória dos Dados"
      ],
      "metadata": {
        "id": "l71DeU-kdzGU"
      }
    },
    {
      "cell_type": "markdown",
      "source": [
        "### Visualizando"
      ],
      "metadata": {
        "id": "b6r61P2Zr1ON"
      }
    },
    {
      "cell_type": "code",
      "source": [
        "print(\"Dados de treino:\")\n",
        "print(training_data.head())"
      ],
      "metadata": {
        "colab": {
          "base_uri": "https://localhost:8080/"
        },
        "id": "RwNkiYvJr4gJ",
        "outputId": "aa8ce27f-7ec8-4b1f-ce37-203bc2c678ff"
      },
      "execution_count": 326,
      "outputs": [
        {
          "output_type": "stream",
          "name": "stdout",
          "text": [
            "Dados de treino:\n",
            "   PassengerId  Survived  Pclass  \\\n",
            "0            1         0       3   \n",
            "1            2         1       1   \n",
            "2            3         1       3   \n",
            "3            4         1       1   \n",
            "4            5         0       3   \n",
            "\n",
            "                                                Name     Sex   Age  SibSp  \\\n",
            "0                            Braund, Mr. Owen Harris    male  22.0      1   \n",
            "1  Cumings, Mrs. John Bradley (Florence Briggs Th...  female  38.0      1   \n",
            "2                             Heikkinen, Miss. Laina  female  26.0      0   \n",
            "3       Futrelle, Mrs. Jacques Heath (Lily May Peel)  female  35.0      1   \n",
            "4                           Allen, Mr. William Henry    male  35.0      0   \n",
            "\n",
            "   Parch            Ticket     Fare Cabin Embarked  \n",
            "0      0         A/5 21171   7.2500   NaN        S  \n",
            "1      0          PC 17599  71.2833   C85        C  \n",
            "2      0  STON/O2. 3101282   7.9250   NaN        S  \n",
            "3      0            113803  53.1000  C123        S  \n",
            "4      0            373450   8.0500   NaN        S  \n"
          ]
        }
      ]
    },
    {
      "cell_type": "code",
      "source": [
        "print(\"\\nDados de teste:\")\n",
        "print(test_data.head())"
      ],
      "metadata": {
        "colab": {
          "base_uri": "https://localhost:8080/"
        },
        "id": "1Wlqy__gr565",
        "outputId": "9e35b383-06b1-47e4-c3a6-872abe8a30d3"
      },
      "execution_count": 327,
      "outputs": [
        {
          "output_type": "stream",
          "name": "stdout",
          "text": [
            "\n",
            "Dados de teste:\n",
            "   Survived  PassengerId  Pclass  \\\n",
            "0       NaN          892       3   \n",
            "1       NaN          893       3   \n",
            "2       NaN          894       2   \n",
            "3       NaN          895       3   \n",
            "4       NaN          896       3   \n",
            "\n",
            "                                           Name     Sex   Age  SibSp  Parch  \\\n",
            "0                              Kelly, Mr. James    male  34.5      0      0   \n",
            "1              Wilkes, Mrs. James (Ellen Needs)  female  47.0      1      0   \n",
            "2                     Myles, Mr. Thomas Francis    male  62.0      0      0   \n",
            "3                              Wirz, Mr. Albert    male  27.0      0      0   \n",
            "4  Hirvonen, Mrs. Alexander (Helga E Lindqvist)  female  22.0      1      1   \n",
            "\n",
            "    Ticket     Fare Cabin Embarked  \n",
            "0   330911   7.8292   NaN        Q  \n",
            "1   363272   7.0000   NaN        S  \n",
            "2   240276   9.6875   NaN        Q  \n",
            "3   315154   8.6625   NaN        S  \n",
            "4  3101298  12.2875   NaN        S  \n"
          ]
        }
      ]
    },
    {
      "cell_type": "code",
      "source": [
        "print(\"\\nTabela de verdade:\")\n",
        "print(truth_table.head())"
      ],
      "metadata": {
        "colab": {
          "base_uri": "https://localhost:8080/"
        },
        "id": "IKePADwtr7VA",
        "outputId": "c568ad9c-6b02-40e3-8c07-cd81ce152f24"
      },
      "execution_count": 328,
      "outputs": [
        {
          "output_type": "stream",
          "name": "stdout",
          "text": [
            "\n",
            "Tabela de verdade:\n",
            "   PassengerId  Survived\n",
            "0          892         0\n",
            "1          893         1\n",
            "2          894         0\n",
            "3          895         0\n",
            "4          896         1\n"
          ]
        }
      ]
    },
    {
      "cell_type": "markdown",
      "source": [
        "### Verificando estatística descritiva"
      ],
      "metadata": {
        "id": "Cce48Rm0n8Oc"
      }
    },
    {
      "cell_type": "code",
      "source": [
        "print(\"\\nEstatísticas descritivas dos dados de treino:\")\n",
        "print(training_data.describe())"
      ],
      "metadata": {
        "colab": {
          "base_uri": "https://localhost:8080/"
        },
        "id": "432B3c79oAUl",
        "outputId": "e8bc21e1-5daf-46c7-eeec-254af6298af0"
      },
      "execution_count": 329,
      "outputs": [
        {
          "output_type": "stream",
          "name": "stdout",
          "text": [
            "\n",
            "Estatísticas descritivas dos dados de treino:\n",
            "       PassengerId    Survived      Pclass         Age       SibSp  \\\n",
            "count   891.000000  891.000000  891.000000  714.000000  891.000000   \n",
            "mean    446.000000    0.383838    2.308642   29.699118    0.523008   \n",
            "std     257.353842    0.486592    0.836071   14.526497    1.102743   \n",
            "min       1.000000    0.000000    1.000000    0.420000    0.000000   \n",
            "25%     223.500000    0.000000    2.000000   20.125000    0.000000   \n",
            "50%     446.000000    0.000000    3.000000   28.000000    0.000000   \n",
            "75%     668.500000    1.000000    3.000000   38.000000    1.000000   \n",
            "max     891.000000    1.000000    3.000000   80.000000    8.000000   \n",
            "\n",
            "            Parch        Fare  \n",
            "count  891.000000  891.000000  \n",
            "mean     0.381594   32.204208  \n",
            "std      0.806057   49.693429  \n",
            "min      0.000000    0.000000  \n",
            "25%      0.000000    7.910400  \n",
            "50%      0.000000   14.454200  \n",
            "75%      0.000000   31.000000  \n",
            "max      6.000000  512.329200  \n"
          ]
        }
      ]
    },
    {
      "cell_type": "code",
      "source": [
        "print(\"\\nEstatísticas descritivas dos dados de teste:\")\n",
        "print(test_data.describe())"
      ],
      "metadata": {
        "colab": {
          "base_uri": "https://localhost:8080/"
        },
        "id": "4o4gdfiHoHjf",
        "outputId": "56c3b1f3-fb00-42d1-c647-84e7dca40c18"
      },
      "execution_count": 330,
      "outputs": [
        {
          "output_type": "stream",
          "name": "stdout",
          "text": [
            "\n",
            "Estatísticas descritivas dos dados de teste:\n",
            "       Survived  PassengerId      Pclass         Age       SibSp       Parch  \\\n",
            "count       0.0   418.000000  418.000000  332.000000  418.000000  418.000000   \n",
            "mean        NaN  1100.500000    2.265550   30.272590    0.447368    0.392344   \n",
            "std         NaN   120.810458    0.841838   14.181209    0.896760    0.981429   \n",
            "min         NaN   892.000000    1.000000    0.170000    0.000000    0.000000   \n",
            "25%         NaN   996.250000    1.000000   21.000000    0.000000    0.000000   \n",
            "50%         NaN  1100.500000    3.000000   27.000000    0.000000    0.000000   \n",
            "75%         NaN  1204.750000    3.000000   39.000000    1.000000    0.000000   \n",
            "max         NaN  1309.000000    3.000000   76.000000    8.000000    9.000000   \n",
            "\n",
            "             Fare  \n",
            "count  417.000000  \n",
            "mean    35.627188  \n",
            "std     55.907576  \n",
            "min      0.000000  \n",
            "25%      7.895800  \n",
            "50%     14.454200  \n",
            "75%     31.500000  \n",
            "max    512.329200  \n"
          ]
        }
      ]
    },
    {
      "cell_type": "code",
      "source": [
        "print(\"\\nEstatísticas descritivas da tabela de verdade:\")\n",
        "print(truth_table.describe())"
      ],
      "metadata": {
        "colab": {
          "base_uri": "https://localhost:8080/"
        },
        "id": "QYQsRDXDoIhc",
        "outputId": "7d9f1c6d-6495-4409-e042-c58327534de3"
      },
      "execution_count": 331,
      "outputs": [
        {
          "output_type": "stream",
          "name": "stdout",
          "text": [
            "\n",
            "Estatísticas descritivas da tabela de verdade:\n",
            "       PassengerId    Survived\n",
            "count   418.000000  418.000000\n",
            "mean   1100.500000    0.363636\n",
            "std     120.810458    0.481622\n",
            "min     892.000000    0.000000\n",
            "25%     996.250000    0.000000\n",
            "50%    1100.500000    0.000000\n",
            "75%    1204.750000    1.000000\n",
            "max    1309.000000    1.000000\n"
          ]
        }
      ]
    },
    {
      "cell_type": "markdown",
      "source": [
        "### Verificando valores ausentes"
      ],
      "metadata": {
        "id": "sE3LnnZyoOxw"
      }
    },
    {
      "cell_type": "code",
      "source": [
        "print(\"\\nValores ausentes nos dados de treino:\")\n",
        "print(training_data.isnull().sum())"
      ],
      "metadata": {
        "colab": {
          "base_uri": "https://localhost:8080/"
        },
        "id": "GfT4lkOkoTw-",
        "outputId": "322dfffc-53f9-4231-f998-c7853eebfde4"
      },
      "execution_count": 332,
      "outputs": [
        {
          "output_type": "stream",
          "name": "stdout",
          "text": [
            "\n",
            "Valores ausentes nos dados de treino:\n",
            "PassengerId      0\n",
            "Survived         0\n",
            "Pclass           0\n",
            "Name             0\n",
            "Sex              0\n",
            "Age            177\n",
            "SibSp            0\n",
            "Parch            0\n",
            "Ticket           0\n",
            "Fare             0\n",
            "Cabin          687\n",
            "Embarked         2\n",
            "dtype: int64\n"
          ]
        }
      ]
    },
    {
      "cell_type": "code",
      "source": [
        "print(\"\\nValores ausentes nos dados de teste:\")\n",
        "print(test_data.isnull().sum())"
      ],
      "metadata": {
        "colab": {
          "base_uri": "https://localhost:8080/"
        },
        "id": "qXsskrYzoVi6",
        "outputId": "b5f77f96-9712-4d0f-a723-30f7e9d50ff7"
      },
      "execution_count": 333,
      "outputs": [
        {
          "output_type": "stream",
          "name": "stdout",
          "text": [
            "\n",
            "Valores ausentes nos dados de teste:\n",
            "Survived       418\n",
            "PassengerId      0\n",
            "Pclass           0\n",
            "Name             0\n",
            "Sex              0\n",
            "Age             86\n",
            "SibSp            0\n",
            "Parch            0\n",
            "Ticket           0\n",
            "Fare             1\n",
            "Cabin          327\n",
            "Embarked         0\n",
            "dtype: int64\n"
          ]
        }
      ]
    },
    {
      "cell_type": "code",
      "source": [
        "print(\"\\nValores ausentes na tabela de verdade:\")\n",
        "print(truth_table.isnull().sum())"
      ],
      "metadata": {
        "colab": {
          "base_uri": "https://localhost:8080/"
        },
        "id": "Zg0uJMOpoWhG",
        "outputId": "6a351350-dcd7-456f-819a-541b1b12f4a6"
      },
      "execution_count": 334,
      "outputs": [
        {
          "output_type": "stream",
          "name": "stdout",
          "text": [
            "\n",
            "Valores ausentes na tabela de verdade:\n",
            "PassengerId    0\n",
            "Survived       0\n",
            "dtype: int64\n"
          ]
        }
      ]
    },
    {
      "cell_type": "markdown",
      "source": [
        "### Verificando a distribuição de classes na coluna 'Survived'"
      ],
      "metadata": {
        "id": "Sinhjqm4o4fY"
      }
    },
    {
      "cell_type": "code",
      "source": [
        "print(\"\\nDistribuição de classes na coluna 'Survived' dos dados de treino:\")\n",
        "print(training_data['Survived'].value_counts(normalize=True))"
      ],
      "metadata": {
        "colab": {
          "base_uri": "https://localhost:8080/"
        },
        "id": "idrLXejNovn0",
        "outputId": "437c0fab-b86c-4412-cb9d-57b16e17f40c"
      },
      "execution_count": 335,
      "outputs": [
        {
          "output_type": "stream",
          "name": "stdout",
          "text": [
            "\n",
            "Distribuição de classes na coluna 'Survived' dos dados de treino:\n",
            "Survived\n",
            "0    0.616162\n",
            "1    0.383838\n",
            "Name: proportion, dtype: float64\n"
          ]
        }
      ]
    },
    {
      "cell_type": "markdown",
      "source": [
        "### Verificando os tipos de dados"
      ],
      "metadata": {
        "id": "eYAWcVZ5pKvD"
      }
    },
    {
      "cell_type": "code",
      "source": [
        "print(\"\\nTipos de dados nos dados de treino:\")\n",
        "print(training_data.dtypes)"
      ],
      "metadata": {
        "colab": {
          "base_uri": "https://localhost:8080/"
        },
        "id": "uILw-vlQpRdG",
        "outputId": "decacdd0-8ca4-4f10-b2c2-965f735fb213"
      },
      "execution_count": 336,
      "outputs": [
        {
          "output_type": "stream",
          "name": "stdout",
          "text": [
            "\n",
            "Tipos de dados nos dados de treino:\n",
            "PassengerId      int64\n",
            "Survived         int64\n",
            "Pclass           int64\n",
            "Name            object\n",
            "Sex             object\n",
            "Age            float64\n",
            "SibSp            int64\n",
            "Parch            int64\n",
            "Ticket          object\n",
            "Fare           float64\n",
            "Cabin           object\n",
            "Embarked        object\n",
            "dtype: object\n"
          ]
        }
      ]
    },
    {
      "cell_type": "code",
      "source": [
        "print(\"\\nTipos de dados nos dados de teste:\")\n",
        "print(test_data.dtypes)"
      ],
      "metadata": {
        "colab": {
          "base_uri": "https://localhost:8080/"
        },
        "id": "bQMmDEJcpTM6",
        "outputId": "9d4a7868-3d9e-4805-a27c-1ac928f9978b"
      },
      "execution_count": 337,
      "outputs": [
        {
          "output_type": "stream",
          "name": "stdout",
          "text": [
            "\n",
            "Tipos de dados nos dados de teste:\n",
            "Survived       float64\n",
            "PassengerId      int64\n",
            "Pclass           int64\n",
            "Name            object\n",
            "Sex             object\n",
            "Age            float64\n",
            "SibSp            int64\n",
            "Parch            int64\n",
            "Ticket          object\n",
            "Fare           float64\n",
            "Cabin           object\n",
            "Embarked        object\n",
            "dtype: object\n"
          ]
        }
      ]
    },
    {
      "cell_type": "code",
      "source": [
        "print(\"\\nTipos de dados na tabela de verdade:\")\n",
        "print(truth_table.dtypes)"
      ],
      "metadata": {
        "colab": {
          "base_uri": "https://localhost:8080/"
        },
        "id": "vbekjW0EpUiN",
        "outputId": "43262a42-447b-45dd-c2fc-5cdf759461f6"
      },
      "execution_count": 338,
      "outputs": [
        {
          "output_type": "stream",
          "name": "stdout",
          "text": [
            "\n",
            "Tipos de dados na tabela de verdade:\n",
            "PassengerId    int64\n",
            "Survived       int64\n",
            "dtype: object\n"
          ]
        }
      ]
    },
    {
      "cell_type": "markdown",
      "source": [
        "## Pré-Processamento dos Dados"
      ],
      "metadata": {
        "id": "yBOY5errqBJo"
      }
    },
    {
      "cell_type": "markdown",
      "source": [
        "### Selecionando colunas irrelevantes ou com muitos valores ausentes ou não mais necessárias"
      ],
      "metadata": {
        "id": "WeXEpwt7rDtU"
      }
    },
    {
      "cell_type": "code",
      "source": [
        "columns_to_drop = ['PassengerId', 'Name', 'SibSp', 'Parch', 'Ticket', 'Cabin', 'Embarked']"
      ],
      "metadata": {
        "id": "PFsliaNNqAQ6"
      },
      "execution_count": 339,
      "outputs": []
    },
    {
      "cell_type": "markdown",
      "source": [
        "### Preenchendo Valores Ausentes"
      ],
      "metadata": {
        "id": "YbKOGv7utiyZ"
      }
    },
    {
      "cell_type": "code",
      "source": [
        "# Preenchendo valores ausentes com a média para 'Age' e 'Fare'\n",
        "training_data['Age'] = training_data['Age'].fillna(training_data['Age'].mean())\n",
        "training_data['Fare'] = training_data['Fare'].fillna(training_data['Fare'].mean())"
      ],
      "metadata": {
        "id": "zbbMXOibtoOr"
      },
      "execution_count": 340,
      "outputs": []
    },
    {
      "cell_type": "code",
      "source": [
        "# Preenchendo valores ausentes com a média para 'Age' e 'Fare'\n",
        "test_data['Age'] = test_data['Age'].fillna(test_data['Age'].mean())\n",
        "test_data['Fare'] = test_data['Fare'].fillna(test_data['Fare'].mean())"
      ],
      "metadata": {
        "id": "AT-PFDzvF9jO"
      },
      "execution_count": 341,
      "outputs": []
    },
    {
      "cell_type": "markdown",
      "source": [
        "### Convertendo colunas categóricas em numéricas"
      ],
      "metadata": {
        "id": "nrUzxFD2F_hh"
      }
    },
    {
      "cell_type": "code",
      "source": [
        "encoder = LabelEncoder()"
      ],
      "metadata": {
        "id": "ICKaBBWdGEmK"
      },
      "execution_count": 342,
      "outputs": []
    },
    {
      "cell_type": "code",
      "source": [
        "training_data['Sex'] = encoder.fit_transform(training_data['Sex'])"
      ],
      "metadata": {
        "id": "BC8r3VSRGGPx"
      },
      "execution_count": 343,
      "outputs": []
    },
    {
      "cell_type": "code",
      "source": [
        "test_data['Sex'] = encoder.transform(test_data['Sex'])"
      ],
      "metadata": {
        "id": "ifOlNWaEGG_5"
      },
      "execution_count": 344,
      "outputs": []
    },
    {
      "cell_type": "markdown",
      "source": [
        "### Criando colunas derivadas"
      ],
      "metadata": {
        "id": "cOYzWIkUGKMg"
      }
    },
    {
      "cell_type": "code",
      "source": [
        "title_map = {\n",
        "    'Master': 0, 'Miss': 1, 'Mrs': 2, 'Mr': 3, 'Rare': 4\n",
        "}"
      ],
      "metadata": {
        "id": "iNhguEIq9WTp"
      },
      "execution_count": 345,
      "outputs": []
    },
    {
      "cell_type": "code",
      "source": [
        "# Criando colunas 'FamilySize' e 'isAlone'\n",
        "training_data['FamilySize'] = training_data['SibSp'] + training_data['Parch'] + 1\n",
        "training_data['isAlone'] = (training_data['FamilySize'] == 1).astype(int)\n",
        "\n",
        "# Extraindo títulos dos nomes e convertendo em categorias numéricas\n",
        "training_data['Title'] = training_data['Name'].str.extract(r' ([A-Za-z]+)\\.', expand=False)\n",
        "training_data['Title'] = training_data['Title'].replace(['Lady', 'Countess', 'Capt', 'Col', 'Don', 'Dr', 'Major', 'Rev', 'Sir'], 'Rare')\n",
        "training_data['Title'] = training_data['Title'].replace(['Mlle', 'Ms'], 'Miss')\n",
        "training_data['Title'] = training_data['Title'].replace(['Mme'], 'Mrs')\n",
        "training_data['Title'] = training_data['Title'].map(title_map).fillna(5).astype(int)"
      ],
      "metadata": {
        "id": "uVpeyGKlGJus"
      },
      "execution_count": 346,
      "outputs": []
    },
    {
      "cell_type": "code",
      "source": [
        "# Criando colunas 'FamilySize' e 'isAlone' no conjunto de teste\n",
        "test_data['FamilySize'] = test_data['SibSp'] + test_data['Parch'] + 1\n",
        "test_data['isAlone'] = (test_data['FamilySize'] == 1).astype(int)\n",
        "\n",
        "# Extraindo títulos dos nomes e convertendo em categorias numéricas no conjunto de teste\n",
        "test_data['Title'] = test_data['Name'].str.extract(r' ([A-Za-z]+)\\.', expand=False)\n",
        "test_data['Title'] = test_data['Title'].replace(['Lady', 'Countess', 'Capt', 'Col', 'Don', 'Dr', 'Major', 'Rev', 'Sir'], 'Rare')\n",
        "test_data['Title'] = test_data['Title'].replace(['Mlle', 'Ms'], 'Miss')\n",
        "test_data['Title'] = test_data['Title'].replace(['Mme'], 'Mrs')\n",
        "test_data['Title'] = test_data['Title'].map(title_map).fillna(5).astype(int)"
      ],
      "metadata": {
        "id": "mCKxOuvqGPaj"
      },
      "execution_count": 347,
      "outputs": []
    },
    {
      "cell_type": "markdown",
      "source": [
        "### Normalizando colunas numéricas"
      ],
      "metadata": {
        "id": "UjJBmGA-GQ5w"
      }
    },
    {
      "cell_type": "code",
      "source": [
        "scaler = StandardScaler()"
      ],
      "metadata": {
        "id": "w-mUIJN-GUT5"
      },
      "execution_count": 348,
      "outputs": []
    },
    {
      "cell_type": "code",
      "source": [
        "training_data[['Age', 'Fare', 'FamilySize']] = scaler.fit_transform(training_data[['Age', 'Fare', 'FamilySize']])"
      ],
      "metadata": {
        "id": "U6hdXpdSGV6p"
      },
      "execution_count": 349,
      "outputs": []
    },
    {
      "cell_type": "code",
      "source": [
        "test_data[['Age', 'Fare', 'FamilySize']] = scaler.transform(test_data[['Age', 'Fare', 'FamilySize']])"
      ],
      "metadata": {
        "id": "Mgj8xBNhGXjK"
      },
      "execution_count": 350,
      "outputs": []
    },
    {
      "cell_type": "markdown",
      "source": [
        "### Removendo colunas irrelevantes ou com muitos valores ausentes ou não mais necessárias"
      ],
      "metadata": {
        "id": "jrBr87Z2GZ7L"
      }
    },
    {
      "cell_type": "code",
      "source": [
        "training_data.drop(columns=columns_to_drop, inplace=True)"
      ],
      "metadata": {
        "id": "2NOyh0NVGhZl"
      },
      "execution_count": 351,
      "outputs": []
    },
    {
      "cell_type": "code",
      "source": [
        "test_data.drop(columns=columns_to_drop, inplace=True)"
      ],
      "metadata": {
        "id": "k4SKPOJgGiIf"
      },
      "execution_count": 352,
      "outputs": []
    },
    {
      "cell_type": "markdown",
      "source": [
        "#### Vizualizando os dados pré-processados"
      ],
      "metadata": {
        "id": "XLsy6Qa9ypPP"
      }
    },
    {
      "cell_type": "code",
      "source": [
        "print(\"\\nDados de treino pré-preocessados:\")\n",
        "print(training_data.head())"
      ],
      "metadata": {
        "colab": {
          "base_uri": "https://localhost:8080/"
        },
        "id": "BSLolTyuyvh4",
        "outputId": "dfeb2dfd-4900-4a14-8d3e-a5aadddee288"
      },
      "execution_count": 353,
      "outputs": [
        {
          "output_type": "stream",
          "name": "stdout",
          "text": [
            "\n",
            "Dados de treino pré-preocessados:\n",
            "   Survived  Pclass  Sex       Age      Fare  FamilySize  isAlone  Title\n",
            "0         0       3    1 -0.592481 -0.502445    0.059160        0      3\n",
            "1         1       1    0  0.638789  0.786845    0.059160        0      2\n",
            "2         1       3    0 -0.284663 -0.488854   -0.560975        1      1\n",
            "3         1       1    0  0.407926  0.420730    0.059160        0      2\n",
            "4         0       3    1  0.407926 -0.486337   -0.560975        1      3\n"
          ]
        }
      ]
    },
    {
      "cell_type": "code",
      "source": [
        "print(\"\\nDados de teste pré-preocessados:\")\n",
        "print(test_data.head())"
      ],
      "metadata": {
        "colab": {
          "base_uri": "https://localhost:8080/"
        },
        "id": "rUoSl6eJy8OI",
        "outputId": "edccfb35-2d8d-4a53-e98a-353f615531b0"
      },
      "execution_count": 354,
      "outputs": [
        {
          "output_type": "stream",
          "name": "stdout",
          "text": [
            "\n",
            "Dados de teste pré-preocessados:\n",
            "   Survived  Pclass  Sex       Age      Fare  FamilySize  isAlone  Title\n",
            "0       NaN       3    1  0.369449 -0.490783   -0.560975        1      3\n",
            "1       NaN       3    0  1.331378 -0.507479    0.059160        0      2\n",
            "2       NaN       2    1  2.485693 -0.453367   -0.560975        1      3\n",
            "3       NaN       3    1 -0.207709 -0.474005   -0.560975        1      3\n",
            "4       NaN       3    0 -0.592481 -0.401017    0.679295        0      2\n"
          ]
        }
      ]
    },
    {
      "cell_type": "markdown",
      "source": [
        "### Separando os dados de treino e teste"
      ],
      "metadata": {
        "id": "qhZVKOTqGl7h"
      }
    },
    {
      "cell_type": "code",
      "source": [
        "X_train = training_data.drop(columns=['Survived'])\n",
        "y_train = training_data['Survived']"
      ],
      "metadata": {
        "id": "iEeUBc7cGllA"
      },
      "execution_count": 355,
      "outputs": []
    },
    {
      "cell_type": "code",
      "source": [
        "X_test = test_data.drop(columns=['Survived'])\n",
        "y_test = truth_table['Survived']"
      ],
      "metadata": {
        "id": "0WWnGSt-HEW7"
      },
      "execution_count": 356,
      "outputs": []
    },
    {
      "cell_type": "markdown",
      "source": [
        "## Otimizando os Hiperparâmetros do Modelo"
      ],
      "metadata": {
        "id": "xjC5Q4E9HIIN"
      }
    },
    {
      "cell_type": "markdown",
      "source": [
        "### Random Forest"
      ],
      "metadata": {
        "id": "sEQkvgIFIAZL"
      }
    },
    {
      "cell_type": "code",
      "source": [
        "# Definindo o modelo de Random Forest e os hiperparâmetros a serem otimizados\n",
        "rf_model = RandomForestClassifier(random_state=42)\n",
        "\n",
        "# Definindo o espaço de busca para os hiperparâmetros\n",
        "rf_space = {\n",
        "    'n_estimators': Integer(100, 1000),\n",
        "    'max_depth': Integer(3, 30),\n",
        "    'min_samples_split': Integer(2, 20),\n",
        "    'min_samples_leaf': Integer(1, 20),\n",
        "    'max_features': Categorical(['sqrt', 'log2', None]),\n",
        "    'bootstrap': Categorical([True, False])\n",
        "}\n",
        "\n",
        "# Realizando a busca bayesiana para otimização dos hiperparâmetros\n",
        "rf_search = BayesSearchCV(\n",
        "    estimator=rf_model,\n",
        "    search_spaces=rf_space,\n",
        "    n_iter=50,\n",
        "    cv=5,\n",
        "    scoring='accuracy',\n",
        "    n_jobs=-1,\n",
        "    random_state=42\n",
        ")\n",
        "\n",
        "# Ajustando o modelo de Random Forest aos dados de treino\n",
        "rf_search.fit(X_train, y_train)\n",
        "\n",
        "# Obtendo os melhores hiperparâmetros e o melhor modelo\n",
        "best_rf_params = rf_search.best_params_\n",
        "best_rf = rf_search.best_estimator_"
      ],
      "metadata": {
        "id": "e-RykAllH8ru"
      },
      "execution_count": 357,
      "outputs": []
    },
    {
      "cell_type": "markdown",
      "source": [
        "### Rede Neural"
      ],
      "metadata": {
        "id": "-bSKtozTIC7F"
      }
    },
    {
      "cell_type": "code",
      "source": [
        "# Definindo o modelo de MLP e os hiperparâmetros a serem otimizados\n",
        "mlp_model = MLPClassifier(max_iter=1000, random_state=42)\n",
        "\n",
        "# Definindo o espaço de busca para os hiperparâmetros do MLP\n",
        "mlp_space = {\n",
        "    'hidden_layer_sizes': Integer(5, 500),\n",
        "    'activation': Categorical(['tanh', 'relu']),\n",
        "    'solver': Categorical(['adam', 'sgd']),\n",
        "    'alpha': Real(1e-5, 1e-1, prior='log-uniform'),  # regularização L2\n",
        "    'learning_rate_init': Real(1e-4, 1e-1, prior='log-uniform')\n",
        "}\n",
        "\n",
        "# Realizando a busca bayesiana para otimização dos hiperparâmetros do MLP\n",
        "mlp_search = BayesSearchCV(\n",
        "    estimator=mlp_model,\n",
        "    search_spaces=mlp_space,\n",
        "    n_iter=50,\n",
        "    cv=5,\n",
        "    scoring='accuracy',\n",
        "    n_jobs=-1,\n",
        "    random_state=42\n",
        ")\n",
        "\n",
        "# Ajustando o modelo de MLP aos dados de treino\n",
        "mlp_search.fit(X_train, y_train)\n",
        "\n",
        "best_mlp_params = mlp_search.best_params_\n",
        "best_mlp = mlp_search.best_estimator_"
      ],
      "metadata": {
        "id": "Toz1ySMHIEZW"
      },
      "execution_count": 358,
      "outputs": []
    },
    {
      "cell_type": "markdown",
      "source": [
        "## Treinando e Avaliando os Modelos"
      ],
      "metadata": {
        "id": "7H_GlNy2IOsN"
      }
    },
    {
      "cell_type": "markdown",
      "source": [
        "### Random Forest"
      ],
      "metadata": {
        "id": "d2K4OOCaIS_K"
      }
    },
    {
      "cell_type": "markdown",
      "source": [
        "#### Treinando o modelo"
      ],
      "metadata": {
        "id": "WclwrU4esVgY"
      }
    },
    {
      "cell_type": "code",
      "source": [
        "# Treinando o modelo de Random Forest com os melhores hiperparâmetros encontrados\n",
        "rf_model = RandomForestClassifier(**best_rf_params, random_state=42)\n",
        "rf_model.fit(X_train, y_train)\n",
        "\n",
        "# Obtendo previsões do modelo de Random Forest nos dados de teste\n",
        "y_pred_rf = rf_model.predict(X_test)"
      ],
      "metadata": {
        "id": "GM0bIif_IX35"
      },
      "execution_count": 359,
      "outputs": []
    },
    {
      "cell_type": "markdown",
      "source": [
        "#### Avaliando os resultados"
      ],
      "metadata": {
        "id": "qzGuwDnvsYdv"
      }
    },
    {
      "cell_type": "code",
      "source": [
        "print(\"\\nAcurácia do modelo de Random Forest nos dados de teste:\")\n",
        "print(accuracy_score(y_test, y_pred_rf))"
      ],
      "metadata": {
        "colab": {
          "base_uri": "https://localhost:8080/"
        },
        "id": "Q1TcckzzpNZ4",
        "outputId": "22b98605-aa39-4925-d1cf-cd35894b7b1f"
      },
      "execution_count": 360,
      "outputs": [
        {
          "output_type": "stream",
          "name": "stdout",
          "text": [
            "\n",
            "Acurácia do modelo de Random Forest nos dados de teste:\n",
            "0.8421052631578947\n"
          ]
        }
      ]
    },
    {
      "cell_type": "code",
      "source": [
        "print(\"\\nRelatório de classificação do modelo de Random Forest:\")\n",
        "print(classification_report(y_test, y_pred_rf))"
      ],
      "metadata": {
        "colab": {
          "base_uri": "https://localhost:8080/"
        },
        "id": "dFydkBEPpNSe",
        "outputId": "0793044b-0dbd-419f-c405-4eeb3eb48b70"
      },
      "execution_count": 361,
      "outputs": [
        {
          "output_type": "stream",
          "name": "stdout",
          "text": [
            "\n",
            "Relatório de classificação do modelo de Random Forest:\n",
            "              precision    recall  f1-score   support\n",
            "\n",
            "           0       0.87      0.89      0.88       266\n",
            "           1       0.79      0.76      0.78       152\n",
            "\n",
            "    accuracy                           0.84       418\n",
            "   macro avg       0.83      0.83      0.83       418\n",
            "weighted avg       0.84      0.84      0.84       418\n",
            "\n"
          ]
        }
      ]
    },
    {
      "cell_type": "code",
      "source": [
        "print(\"\\nMatriz de confusão do modelo de Random Forest:\")\n",
        "print(confusion_matrix(y_test, y_pred_rf))"
      ],
      "metadata": {
        "colab": {
          "base_uri": "https://localhost:8080/"
        },
        "id": "ToqblrPwIcKX",
        "outputId": "df169195-825a-4fef-d8e0-14eb84a26561"
      },
      "execution_count": 362,
      "outputs": [
        {
          "output_type": "stream",
          "name": "stdout",
          "text": [
            "\n",
            "Matriz de confusão do modelo de Random Forest:\n",
            "[[236  30]\n",
            " [ 36 116]]\n"
          ]
        }
      ]
    },
    {
      "cell_type": "markdown",
      "source": [
        "### Rede Neural"
      ],
      "metadata": {
        "id": "8qecWR-1IdCU"
      }
    },
    {
      "cell_type": "markdown",
      "source": [
        "#### Treinando o modelo"
      ],
      "metadata": {
        "id": "lOqh_Fc2shqy"
      }
    },
    {
      "cell_type": "code",
      "source": [
        "# Treinando o modelo de MLP com os melhores hiperparâmetros encontrados\n",
        "mlp_model = MLPClassifier(**best_mlp_params, max_iter=1000, random_state=42)\n",
        "mlp_model.fit(X_train, y_train)\n",
        "\n",
        "# Obtendo previsões do modelo de MLP nos dados de teste\n",
        "y_pred_mlp = mlp_model.predict(X_test)"
      ],
      "metadata": {
        "id": "xLdBWHOnIgqm"
      },
      "execution_count": 363,
      "outputs": []
    },
    {
      "cell_type": "markdown",
      "source": [
        "#### Avaliando o modelo"
      ],
      "metadata": {
        "id": "Zo-_A7yAsj6Q"
      }
    },
    {
      "cell_type": "code",
      "source": [
        "print(\"\\nAcurácia do modelo de MLP nos dados de teste:\")\n",
        "print(accuracy_score(y_test, y_pred_mlp))"
      ],
      "metadata": {
        "colab": {
          "base_uri": "https://localhost:8080/"
        },
        "id": "qKo2-4-PpIla",
        "outputId": "df4d8a89-51df-4db4-9e71-ed4488d4a87d"
      },
      "execution_count": 364,
      "outputs": [
        {
          "output_type": "stream",
          "name": "stdout",
          "text": [
            "\n",
            "Acurácia do modelo de MLP nos dados de teste:\n",
            "0.8636363636363636\n"
          ]
        }
      ]
    },
    {
      "cell_type": "code",
      "source": [
        "print(\"\\nRelatório de classificação do modelo de MLP:\")\n",
        "print(classification_report(y_test, y_pred_mlp))"
      ],
      "metadata": {
        "colab": {
          "base_uri": "https://localhost:8080/"
        },
        "id": "J84zF6UApIZ6",
        "outputId": "8cfade92-9c59-42ef-c47e-d3c6a2ccfda3"
      },
      "execution_count": 365,
      "outputs": [
        {
          "output_type": "stream",
          "name": "stdout",
          "text": [
            "\n",
            "Relatório de classificação do modelo de MLP:\n",
            "              precision    recall  f1-score   support\n",
            "\n",
            "           0       0.97      0.81      0.88       266\n",
            "           1       0.74      0.96      0.84       152\n",
            "\n",
            "    accuracy                           0.86       418\n",
            "   macro avg       0.86      0.88      0.86       418\n",
            "weighted avg       0.89      0.86      0.87       418\n",
            "\n"
          ]
        }
      ]
    },
    {
      "cell_type": "code",
      "source": [
        "print(\"\\nMatriz de confusão do modelo de MLP:\")\n",
        "print(confusion_matrix(y_test, y_pred_mlp))"
      ],
      "metadata": {
        "colab": {
          "base_uri": "https://localhost:8080/"
        },
        "id": "UQPTqL44IiIu",
        "outputId": "9a36c158-5fe8-462e-c5fe-3ea470e126cc"
      },
      "execution_count": 366,
      "outputs": [
        {
          "output_type": "stream",
          "name": "stdout",
          "text": [
            "\n",
            "Matriz de confusão do modelo de MLP:\n",
            "[[215  51]\n",
            " [  6 146]]\n"
          ]
        }
      ]
    },
    {
      "cell_type": "markdown",
      "source": [
        "## Identificando agrupamentos de passageiros com perfis semelhantes"
      ],
      "metadata": {
        "id": "rnoD2SEsgGqw"
      }
    },
    {
      "cell_type": "markdown",
      "source": [
        "### Preparando os dados"
      ],
      "metadata": {
        "id": "VZ3_9s3tDq6W"
      }
    },
    {
      "cell_type": "code",
      "source": [
        "# Remover a coluna 'Survived' para clustering\n",
        "X = X_train.copy()\n",
        "\n",
        "# One-Hot Encoding da coluna 'Title' (mantém outras numéricas como estão)\n",
        "X = pd.get_dummies(X, columns=['Title'], prefix='Title')\n",
        "\n",
        "# Identificar colunas numéricas que devem ser padronizadas\n",
        "num_cols = ['Age', 'Fare', 'FamilySize']\n",
        "\n",
        "# Padronizar apenas as colunas numéricas\n",
        "scaler = StandardScaler()\n",
        "X_scaled = X.copy()\n",
        "X_scaled[num_cols] = scaler.fit_transform(X_scaled[num_cols])"
      ],
      "metadata": {
        "id": "p9h1qTa8Dtpo"
      },
      "execution_count": 367,
      "outputs": []
    },
    {
      "cell_type": "markdown",
      "source": [
        "### Aplicando DBSCAN"
      ],
      "metadata": {
        "id": "1QAoPsYvg7mB"
      }
    },
    {
      "cell_type": "code",
      "source": [
        "# Aplicar DBSCAN com hiperparâmetros ajustáveis\n",
        "dbscan = DBSCAN(eps=1.0, min_samples=3)\n",
        "clusters = dbscan.fit_predict(X)\n",
        "\n",
        "# Adicionar os rótulos ao DataFrame original\n",
        "X_clustered = training_data.copy()\n",
        "X_clustered['Cluster'] = clusters\n",
        "\n",
        "# Quantidade de clusters e ruídos\n",
        "n_clusters = len(set(clusters)) - (1 if -1 in clusters else 0)\n",
        "n_noise = list(clusters).count(-1)"
      ],
      "metadata": {
        "id": "1pUBdD7rg_3s"
      },
      "execution_count": 368,
      "outputs": []
    },
    {
      "cell_type": "code",
      "source": [
        "print(\"\\nNúmero de clusters encontrados:\", n_clusters)\n",
        "print(\"Número de pontos de ruído:\", n_noise)"
      ],
      "metadata": {
        "colab": {
          "base_uri": "https://localhost:8080/"
        },
        "id": "UB-S2K6WC_zZ",
        "outputId": "769f19d6-1401-4c76-f874-78d37390708f"
      },
      "execution_count": 369,
      "outputs": [
        {
          "output_type": "stream",
          "name": "stdout",
          "text": [
            "\n",
            "Número de clusters encontrados: 27\n",
            "Número de pontos de ruído: 56\n"
          ]
        }
      ]
    },
    {
      "cell_type": "markdown",
      "source": [
        "### Vizualizando com PCA"
      ],
      "metadata": {
        "id": "539JJbiOhCFD"
      }
    },
    {
      "cell_type": "code",
      "source": [
        "pca = PCA(n_components=2)\n",
        "X_pca = pca.fit_transform(X)\n",
        "\n",
        "X_clustered['PCA1'] = X_pca[:, 0]\n",
        "X_clustered['PCA2'] = X_pca[:, 1]\n",
        "\n",
        "plt.figure(figsize=(10, 6))\n",
        "sns.scatterplot(\n",
        "    x='PCA1', y='PCA2',\n",
        "    hue='Cluster',\n",
        "    data=X_clustered,\n",
        "    palette='tab10',\n",
        "    style=(X_clustered['Cluster'] == -1).map({True: 'X', False: 'o'}),\n",
        "    s=100\n",
        ")\n",
        "plt.title('Clusters de Passageiros com DBSCAN (PCA)')\n",
        "plt.legend(title='Cluster')\n",
        "plt.show()"
      ],
      "metadata": {
        "colab": {
          "base_uri": "https://localhost:8080/",
          "height": 719
        },
        "id": "2t1lltyrhHmw",
        "outputId": "b13541d1-3796-4376-8847-333d9ba9ef51"
      },
      "execution_count": 370,
      "outputs": [
        {
          "output_type": "display_data",
          "data": {
            "text/plain": [
              "<Figure size 1000x600 with 1 Axes>"
            ],
            "image/png": "[encoded data removed]"
          },
          "metadata": {}
        }
      ]
    },
    {
      "cell_type": "markdown",
      "source": [
        "### Avaliando os resultados"
      ],
      "metadata": {
        "id": "4RBEdbqWxN5m"
      }
    },
    {
      "cell_type": "code",
      "source": [
        "# Distribuição de sobreviventes por cluster\n",
        "print(\"\\nDistribuição de sobreviventes por cluster:\")\n",
        "print(X_clustered.groupby('Cluster')['Survived'].value_counts(normalize=True))"
      ],
      "metadata": {
        "colab": {
          "base_uri": "https://localhost:8080/"
        },
        "id": "Hv-HF70qvx6c",
        "outputId": "88786fba-d987-43c0-c131-e45c6c26147a"
      },
      "execution_count": 371,
      "outputs": [
        {
          "output_type": "stream",
          "name": "stdout",
          "text": [
            "\n",
            "Distribuição de sobreviventes por cluster:\n",
            "Cluster  Survived\n",
            "-1       1           0.589286\n",
            "         0           0.410714\n",
            " 0       0           0.913043\n",
            "         1           0.086957\n",
            " 1       1           1.000000\n",
            " 2       1           0.600000\n",
            "         0           0.400000\n",
            " 3       0           0.878788\n",
            "         1           0.121212\n",
            " 4       0           0.782946\n",
            "         1           0.217054\n",
            " 5       0           0.625000\n",
            "         1           0.375000\n",
            " 6       1           0.533333\n",
            "         0           0.466667\n",
            " 7       1           0.888889\n",
            "         0           0.111111\n",
            " 8       0           0.590909\n",
            "         1           0.409091\n",
            " 9       1           0.909091\n",
            "         0           0.090909\n",
            " 10      1           0.750000\n",
            "         0           0.250000\n",
            " 11      0           0.857143\n",
            "         1           0.142857\n",
            " 12      0           0.571429\n",
            "         1           0.428571\n",
            " 13      0           0.606061\n",
            "         1           0.393939\n",
            " 14      1           1.000000\n",
            " 15      1           0.904762\n",
            "         0           0.095238\n",
            " 16      1           1.000000\n",
            " 17      1           1.000000\n",
            " 18      0           1.000000\n",
            " 19      1           1.000000\n",
            " 20      0           0.958333\n",
            "         1           0.041667\n",
            " 21      1           1.000000\n",
            " 22      0           1.000000\n",
            " 23      0           1.000000\n",
            " 24      0           1.000000\n",
            " 25      1           0.666667\n",
            "         0           0.333333\n",
            " 26      1           1.000000\n",
            "Name: proportion, dtype: float64\n"
          ]
        }
      ]
    },
    {
      "cell_type": "code",
      "source": [
        "# Estatísticas descritivas por cluster\n",
        "print(\"\\nEstatísticas descritivas por cluster:\")\n",
        "for c in sorted(X_clustered['Cluster'].unique()):\n",
        "    print(f'\\nCluster {c}:\\n', X_clustered[X_clustered['Cluster'] == c].describe(include='all'))"
      ],
      "metadata": {
        "colab": {
          "base_uri": "https://localhost:8080/"
        },
        "id": "fwUtV2F3wYwI",
        "outputId": "c810625f-125d-425c-a6f9-d1a73133f533"
      },
      "execution_count": 372,
      "outputs": [
        {
          "output_type": "stream",
          "name": "stdout",
          "text": [
            "\n",
            "Estatísticas descritivas por cluster:\n",
            "\n",
            "Cluster -1:\n",
            "         Survived     Pclass        Sex        Age       Fare  FamilySize  \\\n",
            "count  56.000000  56.000000  56.000000  56.000000  56.000000   56.000000   \n",
            "mean    0.589286   1.428571   0.500000   0.477754   1.817044    0.535335   \n",
            "std     0.496416   0.735024   0.504525   1.309418   2.454674    1.311464   \n",
            "min     0.000000   1.000000   0.000000  -2.214678  -0.648422   -0.560975   \n",
            "25%     0.000000   1.000000   0.000000  -0.438572  -0.087566   -0.560975   \n",
            "50%     1.000000   1.000000   0.500000   0.330972   0.954299    0.059160   \n",
            "75%     1.000000   2.000000   1.000000   1.504525   2.498903    1.299429   \n",
            "max     1.000000   3.000000   1.000000   3.101328   9.667167    5.640372   \n",
            "\n",
            "         isAlone      Title  Cluster       PCA1       PCA2  \n",
            "count  56.000000  56.000000     56.0  56.000000  56.000000  \n",
            "mean    0.357143   2.160714     -1.0   1.957061   0.887490  \n",
            "std     0.483494   1.304214      0.0   1.774129   1.548200  \n",
            "min     0.000000   0.000000     -1.0  -0.789725  -2.945343  \n",
            "25%     0.000000   1.000000     -1.0   0.762660  -0.028675  \n",
            "50%     0.000000   2.000000     -1.0   1.654072   1.115186  \n",
            "75%     1.000000   3.000000     -1.0   3.102129   1.884873  \n",
            "max     1.000000   5.000000     -1.0   6.936828   3.943297  \n",
            "\n",
            "Cluster 0:\n",
            "         Survived  Pclass   Sex        Age       Fare  FamilySize  isAlone  \\\n",
            "count  46.000000    46.0  46.0  46.000000  46.000000   46.000000     46.0   \n",
            "mean    0.086957     3.0   1.0  -0.146662  -0.356868    0.369227      0.0   \n",
            "std     0.284885     0.0   0.0   0.571072   0.115770    0.363953      0.0   \n",
            "min     0.000000     3.0   1.0  -1.131161  -0.517631    0.059160      0.0   \n",
            "25%     0.000000     3.0   1.0  -0.438572  -0.488854    0.059160      0.0   \n",
            "50%     0.000000     3.0   1.0  -0.092277  -0.336334    0.059160      0.0   \n",
            "75%     0.000000     3.0   1.0   0.017366  -0.256298    0.679295      0.0   \n",
            "max     1.000000     3.0   1.0   1.100515  -0.162169    1.299429      0.0   \n",
            "\n",
            "       Title  Cluster       PCA1       PCA2  \n",
            "count   46.0     46.0  46.000000  46.000000  \n",
            "mean     3.0      0.0  -0.303515  -0.685895  \n",
            "std      0.0      0.0   0.228997   0.434627  \n",
            "min      3.0      0.0  -0.590860  -1.542045  \n",
            "25%      3.0      0.0  -0.474015  -0.976473  \n",
            "50%      3.0      0.0  -0.398942  -0.649848  \n",
            "75%      3.0      0.0  -0.160185  -0.410285  \n",
            "max      3.0      0.0   0.302088   0.317101  \n",
            "\n",
            "Cluster 1:\n",
            "        Survived  Pclass   Sex        Age       Fare  FamilySize  isAlone  \\\n",
            "count      33.0    33.0  33.0  33.000000  33.000000   33.000000     33.0   \n",
            "mean        1.0     1.0   0.0   0.629214   1.004405    0.228288      0.0   \n",
            "std         0.0     0.0   0.0   0.880554   0.611850    0.320464      0.0   \n",
            "min         1.0     1.0   0.0  -0.977252   0.388096    0.059160      0.0   \n",
            "25%         1.0     1.0   0.0   0.000000   0.477107    0.059160      0.0   \n",
            "50%         1.0     1.0   0.0   0.484880   0.921244    0.059160      0.0   \n",
            "75%         1.0     1.0   0.0   1.331378   1.185430    0.059160      0.0   \n",
            "max         1.0     1.0   0.0   2.331785   2.671118    1.299429      0.0   \n",
            "\n",
            "       Title  Cluster       PCA1       PCA2  \n",
            "count   33.0     33.0  33.000000  33.000000  \n",
            "mean     2.0      1.0   1.664295   1.025287  \n",
            "std      0.0      0.0   0.497512   0.577057  \n",
            "min      2.0      1.0   1.179051  -0.126748  \n",
            "25%      2.0      1.0   1.235097   0.678331  \n",
            "50%      2.0      1.0   1.480660   0.999365  \n",
            "75%      2.0      1.0   1.866065   1.430825  \n",
            "max      2.0      1.0   2.994072   2.223503  \n",
            "\n",
            "Cluster 2:\n",
            "         Survived  Pclass   Sex        Age       Fare    FamilySize  isAlone  \\\n",
            "count  55.000000    55.0  55.0  55.000000  55.000000  5.500000e+01     55.0   \n",
            "mean    0.600000     3.0   0.0  -0.374513  -0.482472 -5.609748e-01      1.0   \n",
            "std     0.494413     0.0   0.0   0.527391   0.027603  5.602279e-16      0.0   \n",
            "min     0.000000     3.0   0.0  -1.900705  -0.512513 -5.609748e-01      1.0   \n",
            "25%     0.000000     3.0   0.0  -0.707912  -0.492378 -5.609748e-01      1.0   \n",
            "50%     1.000000     3.0   0.0  -0.284663  -0.491874 -5.609748e-01      1.0   \n",
            "75%     1.000000     3.0   0.0   0.000000  -0.488854 -5.609748e-01      1.0   \n",
            "max     1.000000     3.0   0.0   1.177469  -0.357308 -5.609748e-01      1.0   \n",
            "\n",
            "       Title  Cluster       PCA1       PCA2  \n",
            "count   55.0     55.0  55.000000  55.000000  \n",
            "mean     1.0      2.0  -0.696756  -0.521279  \n",
            "std      0.0      0.0   0.030125   0.356746  \n",
            "min      1.0      2.0  -0.763137  -1.534284  \n",
            "25%      1.0      2.0  -0.717793  -0.748240  \n",
            "50%      1.0      2.0  -0.704478  -0.462021  \n",
            "75%      1.0      2.0  -0.683568  -0.269629  \n",
            "max      1.0      2.0  -0.581067   0.530236  \n",
            "\n",
            "Cluster 3:\n",
            "          Survived  Pclass    Sex         Age        Fare    FamilySize  \\\n",
            "count  264.000000   264.0  264.0  264.000000  264.000000  2.640000e+02   \n",
            "mean     0.121212     3.0    1.0   -0.028052   -0.456985 -5.609748e-01   \n",
            "std      0.326994     0.0    0.0    0.696913    0.164722  2.558363e-15   \n",
            "min      0.000000     3.0    1.0   -1.438978   -0.648422 -5.609748e-01   \n",
            "25%      0.000000     3.0    1.0   -0.515526   -0.494391 -5.609748e-01   \n",
            "50%      0.000000     3.0    1.0    0.000000   -0.489442 -5.609748e-01   \n",
            "75%      0.000000     3.0    1.0    0.071251   -0.486337 -5.609748e-01   \n",
            "max      1.000000     3.0    1.0    3.409146    0.489104 -5.609748e-01   \n",
            "\n",
            "       isAlone  Title  Cluster        PCA1        PCA2  \n",
            "count    264.0  264.0    264.0  264.000000  264.000000  \n",
            "mean       1.0    3.0      3.0   -1.119681   -0.049321  \n",
            "std        0.0    0.0      0.0    0.113826    0.474582  \n",
            "min        1.0    3.0      3.0   -1.305797   -0.955711  \n",
            "25%        1.0    3.0      3.0   -1.151398   -0.389569  \n",
            "50%        1.0    3.0      3.0   -1.140362   -0.040232  \n",
            "75%        1.0    3.0      3.0   -1.117844    0.080299  \n",
            "max        1.0    3.0      3.0   -0.478018    2.275875  \n",
            "\n",
            "Cluster 4:\n",
            "          Survived      Pclass    Sex         Age        Fare    FamilySize  \\\n",
            "count  129.000000  129.000000  129.0  129.000000  129.000000  1.290000e+02   \n",
            "mean     0.217054    1.511628    1.0    0.525670   -0.184923 -5.609748e-01   \n",
            "std      0.413847    0.501814    0.0    1.044811    0.329262  1.114551e-16   \n",
            "min      0.000000    1.000000    1.0   -1.054207   -0.648422 -5.609748e-01   \n",
            "25%      0.000000    1.000000    1.0   -0.053800   -0.386671 -5.609748e-01   \n",
            "50%      0.000000    2.000000    1.0    0.023154   -0.126430 -5.609748e-01   \n",
            "75%      0.000000    2.000000    1.0    1.215947   -0.044381 -5.609748e-01   \n",
            "max      1.000000    2.000000    1.0    3.870872    0.946246 -5.609748e-01   \n",
            "\n",
            "       isAlone  Title  Cluster        PCA1        PCA2  \n",
            "count    129.0  129.0    129.0  129.000000  129.000000  \n",
            "mean       1.0    3.0      4.0   -0.412837    1.054052  \n",
            "std        0.0    0.0      0.0    0.348758    0.831274  \n",
            "min        1.0    3.0      4.0   -0.881427   -0.303161  \n",
            "25%        1.0    3.0      4.0   -0.719380    0.426997  \n",
            "50%        1.0    3.0      4.0   -0.523843    0.940689  \n",
            "75%        1.0    3.0      4.0   -0.152239    1.504143  \n",
            "max        1.0    3.0      4.0    0.567525    3.589562  \n",
            "\n",
            "Cluster 5:\n",
            "         Survived  Pclass   Sex        Age       Fare  FamilySize  isAlone  \\\n",
            "count  24.000000    24.0  24.0  24.000000  24.000000   24.000000     24.0   \n",
            "mean    0.375000     3.0   1.0  -1.873706  -0.091820    2.074598      0.0   \n",
            "std     0.494535     0.0   0.0   0.276544   0.235815    1.230117      0.0   \n",
            "min     0.000000     3.0   1.0  -2.253155  -0.476941    0.059160      0.0   \n",
            "25%     0.000000     3.0   1.0  -2.131568  -0.258438    0.679295      0.0   \n",
            "50%     0.000000     3.0   1.0  -1.977659  -0.061999    2.539699      0.0   \n",
            "75%     1.000000     3.0   1.0  -1.592887   0.025335    2.694732      0.0   \n",
            "max     1.000000     3.0   1.0  -1.362024   0.295895    3.779968      0.0   \n",
            "\n",
            "       Title  Cluster       PCA1       PCA2  \n",
            "count   24.0     24.0  24.000000  24.000000  \n",
            "mean     0.0      5.0   1.064450  -2.766353  \n",
            "std      0.0      0.0   0.796007   0.553680  \n",
            "min      0.0      5.0  -0.241182  -3.692552  \n",
            "25%      0.0      5.0   0.210847  -3.148006  \n",
            "50%      0.0      5.0   1.323318  -2.898448  \n",
            "75%      0.0      5.0   1.532548  -2.288648  \n",
            "max      0.0      5.0   2.235771  -1.557305  \n",
            "\n",
            "Cluster 6:\n",
            "         Survived  Pclass   Sex        Age       Fare  FamilySize  isAlone  \\\n",
            "count  30.000000    30.0  30.0  30.000000  30.000000   30.000000     30.0   \n",
            "mean    0.533333     3.0   0.0   0.015958  -0.323325    0.451912      0.0   \n",
            "std     0.507416     0.0   0.0   0.548500   0.072482    0.474335      0.0   \n",
            "min     0.000000     3.0   0.0  -1.131161  -0.460162    0.059160      0.0   \n",
            "25%     0.000000     3.0   0.0  -0.207709  -0.357370    0.059160      0.0   \n",
            "50%     1.000000     3.0   0.0   0.000000  -0.329287    0.369227      0.0   \n",
            "75%     1.000000     3.0   0.0   0.157824  -0.287004    0.679295      0.0   \n",
            "max     1.000000     3.0   0.0   1.331378  -0.162169    1.919564      0.0   \n",
            "\n",
            "       Title  Cluster       PCA1       PCA2  \n",
            "count   30.0     30.0  30.000000  30.000000  \n",
            "mean     2.0      6.0   0.184886  -0.742410  \n",
            "std      0.0      0.0   0.274450   0.434618  \n",
            "min      2.0      6.0  -0.141884  -1.456475  \n",
            "25%      2.0      6.0  -0.023176  -0.977341  \n",
            "50%      2.0      6.0   0.133168  -0.784219  \n",
            "75%      2.0      6.0   0.328986  -0.567702  \n",
            "max      2.0      6.0   1.027976   0.327738  \n",
            "\n",
            "Cluster 7:\n",
            "         Survived  Pclass   Sex        Age       Fare  FamilySize  isAlone  \\\n",
            "count  27.000000    27.0  27.0  27.000000  27.000000   27.000000     27.0   \n",
            "mean    0.888889     2.0   0.0   0.091558  -0.115673    0.426647      0.0   \n",
            "std     0.320256     0.0   0.0   0.662101   0.105626    0.463405      0.0   \n",
            "min     0.000000     2.0   0.0  -1.208115  -0.356469    0.059160      0.0   \n",
            "25%     1.000000     2.0   0.0  -0.400095  -0.124920    0.059160      0.0   \n",
            "50%     1.000000     2.0   0.0  -0.053800  -0.124920    0.059160      0.0   \n",
            "75%     1.000000     2.0   0.0   0.407926  -0.112336    0.679295      0.0   \n",
            "max     1.000000     2.0   0.0   1.562241   0.188763    1.299429      0.0   \n",
            "\n",
            "       Title  Cluster       PCA1       PCA2  \n",
            "count   27.0     27.0  27.000000  27.000000  \n",
            "mean     2.0      7.0   0.674488  -0.183570  \n",
            "std      0.0      0.0   0.278502   0.520559  \n",
            "min      2.0      7.0   0.357116  -0.976316  \n",
            "25%      2.0      7.0   0.457738  -0.597517  \n",
            "50%      2.0      7.0   0.509709  -0.195312  \n",
            "75%      2.0      7.0   0.842158   0.188534  \n",
            "max      2.0      7.0   1.364486   0.986756  \n",
            "\n",
            "Cluster 8:\n",
            "         Survived  Pclass   Sex        Age       Fare  FamilySize  isAlone  \\\n",
            "count  44.000000    44.0  44.0  44.000000  44.000000   44.000000     44.0   \n",
            "mean    0.409091     3.0   0.0  -1.170180  -0.239623    1.228959      0.0   \n",
            "std     0.497350     0.0   0.0   0.837976   0.178771    1.159903      0.0   \n",
            "min     0.000000     3.0   0.0  -2.227761  -0.492378    0.059160      0.0   \n",
            "25%     0.000000     3.0   0.0  -1.977659  -0.362613    0.059160      0.0   \n",
            "50%     0.000000     3.0   0.0  -1.323547  -0.260662    0.679295      0.0   \n",
            "75%     1.000000     3.0   0.0  -0.271213  -0.135658    1.919564      0.0   \n",
            "max     1.000000     3.0   0.0   0.000000   0.295895    3.779968      0.0   \n",
            "\n",
            "       Title  Cluster       PCA1       PCA2  \n",
            "count   44.0     44.0  44.000000  44.000000  \n",
            "mean     1.0      8.0   0.694274  -1.984741  \n",
            "std      0.0      0.0   0.714720   0.856745  \n",
            "min      1.0      8.0  -0.120321  -3.489739  \n",
            "25%      1.0      8.0   0.004517  -2.742366  \n",
            "50%      1.0      8.0   0.428748  -2.029355  \n",
            "75%      1.0      8.0   1.134349  -1.250546  \n",
            "max      1.0      8.0   2.392978  -0.614825  \n",
            "\n",
            "Cluster 9:\n",
            "         Survived  Pclass   Sex        Age       Fare    FamilySize  isAlone  \\\n",
            "count  11.000000    11.0  11.0  11.000000  11.000000  1.100000e+01     11.0   \n",
            "mean    0.909091     2.0   0.0   0.659777  -0.388150 -5.609748e-01      1.0   \n",
            "std     0.301511     0.0   0.0   0.836003   0.038337  1.164412e-16      0.0   \n",
            "min     0.000000     2.0   0.0  -0.515526  -0.437007 -5.609748e-01      1.0   \n",
            "25%     1.000000     2.0   0.0   0.061631  -0.415363 -5.609748e-01      1.0   \n",
            "50%     1.000000     2.0   0.0   0.484880  -0.386671 -5.609748e-01      1.0   \n",
            "75%     1.000000     2.0   0.0   1.062038  -0.373667 -5.609748e-01      1.0   \n",
            "max     1.000000     2.0   0.0   2.100922  -0.326267 -5.609748e-01      1.0   \n",
            "\n",
            "       Title  Cluster       PCA1       PCA2  \n",
            "count   11.0     11.0  11.000000  11.000000  \n",
            "mean     2.0      9.0  -0.304379   0.737563  \n",
            "std      0.0      0.0   0.037393   0.569904  \n",
            "min      2.0      9.0  -0.392502  -0.055976  \n",
            "25%      2.0      9.0  -0.315520   0.324637  \n",
            "50%      2.0      9.0  -0.309525   0.619167  \n",
            "75%      2.0      9.0  -0.281227   1.012638  \n",
            "max      2.0      9.0  -0.247485   1.702931  \n",
            "\n",
            "Cluster 10:\n",
            "        Survived  Pclass  Sex       Age      Fare  FamilySize  isAlone  Title  \\\n",
            "count      4.00     4.0  4.0  4.000000  4.000000    4.000000      4.0    4.0   \n",
            "mean       0.75     3.0  0.0  0.025027 -0.491434   -0.560975      1.0    2.0   \n",
            "std        0.50     0.0  0.0  0.050054  0.014233    0.000000      0.0    0.0   \n",
            "min        0.00     3.0  0.0  0.000000 -0.502949   -0.560975      1.0    2.0   \n",
            "25%        0.75     3.0  0.0  0.000000 -0.502885   -0.560975      1.0    2.0   \n",
            "50%        1.00     3.0  0.0  0.000000 -0.494601   -0.560975      1.0    2.0   \n",
            "75%        1.00     3.0  0.0  0.025027 -0.483150   -0.560975      1.0    2.0   \n",
            "max        1.00     3.0  0.0  0.100109 -0.473586   -0.560975      1.0    2.0   \n",
            "\n",
            "       Cluster      PCA1      PCA2  \n",
            "count      4.0  4.000000  4.000000  \n",
            "mean      10.0 -0.716078 -0.160077  \n",
            "std        0.0  0.007964  0.037381  \n",
            "min       10.0 -0.722803 -0.180286  \n",
            "25%       10.0 -0.722761 -0.180269  \n",
            "50%       10.0 -0.717229 -0.177960  \n",
            "75%       10.0 -0.710546 -0.157768  \n",
            "max       10.0 -0.707051 -0.104100  \n",
            "\n",
            "Cluster 11:\n",
            "        Survived  Pclass  Sex       Age      Fare  FamilySize  isAlone  Title  \\\n",
            "count  7.000000     7.0  7.0  7.000000  7.000000    7.000000      7.0    7.0   \n",
            "mean   0.142857     3.0  0.0  0.935613  0.043780    2.805471      0.0    2.0   \n",
            "std    0.377964     0.0  0.0  0.282499  0.135846    0.605190      0.0    0.0   \n",
            "min    0.000000     3.0  0.0  0.638789 -0.086664    1.919564      0.0    2.0   \n",
            "25%    0.000000     3.0  0.0  0.715743 -0.040354    2.539699      0.0    2.0   \n",
            "50%    0.000000     3.0  0.0  0.869652 -0.016444    2.539699      0.0    2.0   \n",
            "75%    0.000000     3.0  0.0  1.100515  0.097191    3.159833      0.0    2.0   \n",
            "max    1.000000     3.0  0.0  1.408333  0.295895    3.779968      0.0    2.0   \n",
            "\n",
            "       Cluster      PCA1      PCA2  \n",
            "count      7.0  7.000000  7.000000  \n",
            "mean      11.0  1.636031 -1.128831  \n",
            "std        0.0  0.375654  0.407801  \n",
            "min       11.0  1.150496 -1.514893  \n",
            "25%       11.0  1.416550 -1.461554  \n",
            "50%       11.0  1.569768 -1.181931  \n",
            "75%       11.0  1.791920 -0.946634  \n",
            "max       11.0  2.315012 -0.388615  \n",
            "\n",
            "Cluster 12:\n",
            "        Survived  Pclass  Sex       Age      Fare  FamilySize  isAlone  Title  \\\n",
            "count  7.000000     7.0  7.0  7.000000  7.000000    7.000000      7.0    7.0   \n",
            "mean   0.428571     1.0  1.0  1.174162 -0.024474   -0.560975      1.0    4.0   \n",
            "std    0.534522     0.0  0.0  0.901332  0.099004    0.000000      0.0    0.0   \n",
            "min    0.000000     1.0  1.0  0.000000 -0.113846   -0.560975      1.0    4.0   \n",
            "25%    0.000000     1.0  1.0  0.484880 -0.102059   -0.560975      1.0    4.0   \n",
            "50%    0.000000     1.0  1.0  1.177469 -0.034314   -0.560975      1.0    4.0   \n",
            "75%    1.000000     1.0  1.0  1.870059  0.016023   -0.560975      1.0    4.0   \n",
            "max    1.000000     1.0  1.0  2.331785  0.148912   -0.560975      1.0    4.0   \n",
            "\n",
            "       Cluster      PCA1      PCA2  \n",
            "count      7.0  7.000000  7.000000  \n",
            "mean      12.0  0.054141  1.684165  \n",
            "std        0.0  0.085411  0.602491  \n",
            "min       12.0 -0.050120  0.934861  \n",
            "25%       12.0  0.009612  1.205392  \n",
            "50%       12.0  0.026698  1.661509  \n",
            "75%       12.0  0.084020  2.168179  \n",
            "max       12.0  0.215141  2.445645  \n",
            "\n",
            "Cluster 13:\n",
            "         Survived  Pclass   Sex        Age       Fare  FamilySize  isAlone  \\\n",
            "count  33.000000    33.0  33.0  33.000000  33.000000   33.000000     33.0   \n",
            "mean    0.393939     1.0   1.0   0.718075   0.808684    0.171912      0.0   \n",
            "std     0.496198     0.0   0.0   1.012082   0.431999    0.242891      0.0   \n",
            "min     0.000000     1.0   1.0  -0.977252  -0.050421    0.059160      0.0   \n",
            "25%     0.000000     1.0   1.0  -0.130754   0.420730    0.059160      0.0   \n",
            "50%     0.000000     1.0   1.0   0.638789   0.692549    0.059160      0.0   \n",
            "75%     1.000000     1.0   1.0   1.485287   1.032321    0.059160      0.0   \n",
            "max     1.000000     1.0   1.0   2.716556   1.632335    0.679295      0.0   \n",
            "\n",
            "       Title  Cluster       PCA1       PCA2  \n",
            "count   33.0     33.0  33.000000  33.000000  \n",
            "mean     3.0     13.0   1.071787   1.194998  \n",
            "std      0.0      0.0   0.358162   0.679508  \n",
            "min      3.0     13.0   0.444636   0.019403  \n",
            "25%      3.0     13.0   0.795671   0.691637  \n",
            "50%      3.0     13.0   1.034099   1.289307  \n",
            "75%      3.0     13.0   1.252441   1.729394  \n",
            "max      3.0     13.0   1.922560   2.547638  \n",
            "\n",
            "Cluster 14:\n",
            "        Survived  Pclass   Sex        Age       Fare  FamilySize  isAlone  \\\n",
            "count      14.0    14.0  14.0  14.000000  14.000000   14.000000     14.0   \n",
            "mean        1.0     2.0   0.0  -1.384011  -0.062808    0.679295      0.0   \n",
            "std         0.0     0.0   0.0   0.689906   0.264556    0.486474      0.0   \n",
            "min         1.0     2.0   0.0  -2.131568  -0.386671    0.059160      0.0   \n",
            "25%         1.0     2.0   0.0  -1.958420  -0.185324    0.214194      0.0   \n",
            "50%         1.0     2.0   0.0  -1.708319  -0.119886    0.679295      0.0   \n",
            "75%         1.0     2.0   0.0  -0.900298   0.000922    1.144396      0.0   \n",
            "max         1.0     2.0   0.0  -0.207709   0.660333    1.299429      0.0   \n",
            "\n",
            "       Title  Cluster       PCA1       PCA2  \n",
            "count   14.0     14.0  14.000000  14.000000  \n",
            "mean     1.0     14.0   0.897826  -1.383019  \n",
            "std      0.0      0.0   0.398658   0.567041  \n",
            "min      1.0     14.0   0.320700  -2.061843  \n",
            "25%      1.0     14.0   0.645961  -1.886218  \n",
            "50%      1.0     14.0   0.870739  -1.479741  \n",
            "75%      1.0     14.0   1.141440  -0.893537  \n",
            "max      1.0     14.0   1.671416  -0.375997  \n",
            "\n",
            "Cluster 15:\n",
            "         Survived  Pclass   Sex        Age       Fare    FamilySize  isAlone  \\\n",
            "count  21.000000    21.0  21.0  21.000000  21.000000  2.100000e+01     21.0   \n",
            "mean    0.904762     2.0   0.0   0.059426  -0.361550 -5.609748e-01      1.0   \n",
            "std     0.300793     0.0   0.0   0.703568   0.113311  1.137640e-16      0.0   \n",
            "min     0.000000     2.0   0.0  -0.977252  -0.437007 -5.609748e-01      1.0   \n",
            "25%     1.000000     2.0   0.0  -0.438572  -0.406805 -5.609748e-01      1.0   \n",
            "50%     1.000000     2.0   0.0   0.000000  -0.386671 -5.609748e-01      1.0   \n",
            "75%     1.000000     2.0   0.0   0.407926  -0.386671 -5.609748e-01      1.0   \n",
            "max     1.000000     2.0   0.0   1.562241   0.016023 -5.609748e-01      1.0   \n",
            "\n",
            "       Title  Cluster       PCA1       PCA2  \n",
            "count   21.0     21.0  21.000000  21.000000  \n",
            "mean     1.0     15.0  -0.265545   0.244864  \n",
            "std      0.0      0.0   0.083905   0.474500  \n",
            "min      1.0     15.0  -0.373807  -0.480387  \n",
            "25%      1.0     15.0  -0.298704  -0.100430  \n",
            "50%      1.0     15.0  -0.287866   0.209577  \n",
            "75%      1.0     15.0  -0.263142   0.519488  \n",
            "max      1.0     15.0  -0.011120   1.244713  \n",
            "\n",
            "Cluster 16:\n",
            "        Survived  Pclass   Sex        Age       Fare    FamilySize  isAlone  \\\n",
            "count      19.0    19.0  19.0  19.000000  19.000000  1.900000e+01     19.0   \n",
            "mean        1.0     1.0   0.0  -0.034768   1.127701 -5.609748e-01      1.0   \n",
            "std         0.0     0.0   0.0   0.532330   0.699124  1.140646e-16      0.0   \n",
            "min         1.0     1.0   0.0  -1.054207  -0.044381 -5.609748e-01      1.0   \n",
            "25%         1.0     1.0   0.0  -0.438572   0.817300 -5.609748e-01      1.0   \n",
            "50%         1.0     1.0   0.0   0.023154   1.025945 -5.609748e-01      1.0   \n",
            "75%         1.0     1.0   0.0   0.292494   1.539296 -5.609748e-01      1.0   \n",
            "max         1.0     1.0   0.0   0.869652   2.441498 -5.609748e-01      1.0   \n",
            "\n",
            "       Title  Cluster       PCA1       PCA2  \n",
            "count   19.0     19.0  19.000000  19.000000  \n",
            "mean     1.0     16.0   1.099749   1.033529  \n",
            "std      0.0      0.0   0.454064   0.508493  \n",
            "min      1.0     16.0   0.328269   0.171240  \n",
            "25%      1.0     16.0   0.896166   0.691990  \n",
            "50%      1.0     16.0   1.047349   1.063270  \n",
            "75%      1.0     16.0   1.372820   1.314677  \n",
            "max      1.0     16.0   1.945214   1.961726  \n",
            "\n",
            "Cluster 17:\n",
            "        Survived  Pclass  Sex       Age      Fare  FamilySize  isAlone  Title  \\\n",
            "count       9.0     9.0  9.0  9.000000  9.000000    9.000000      9.0    9.0   \n",
            "mean        1.0     2.0  1.0 -2.111645 -0.098623    0.748198      0.0    0.0   \n",
            "std         0.0     0.0  0.0  0.180276  0.179622    0.206712      0.0    0.0   \n",
            "min         1.0     2.0  1.0 -2.233917 -0.356469    0.679295      0.0    0.0   \n",
            "25%         1.0     2.0  1.0 -2.221604 -0.270896    0.679295      0.0    0.0   \n",
            "50%         1.0     2.0  1.0 -2.208522 -0.124920    0.679295      0.0    0.0   \n",
            "75%         1.0     2.0  1.0 -2.054613  0.091528    0.679295      0.0    0.0   \n",
            "max         1.0     2.0  1.0 -1.669842  0.136831    1.299429      0.0    0.0   \n",
            "\n",
            "       Cluster      PCA1      PCA2  \n",
            "count      9.0  9.000000  9.000000  \n",
            "mean      17.0  0.736616 -1.864707  \n",
            "std        0.0  0.197443  0.175446  \n",
            "min       17.0  0.532796 -2.125688  \n",
            "25%       17.0  0.589466 -1.954810  \n",
            "50%       17.0  0.683479 -1.852971  \n",
            "75%       17.0  0.810238 -1.841372  \n",
            "max       17.0  1.188333 -1.479003  \n",
            "\n",
            "Cluster 18:\n",
            "        Survived  Pclass  Sex       Age      Fare  FamilySize  isAlone  Title  \\\n",
            "count       3.0     3.0  3.0  3.000000  3.000000    3.000000      3.0    3.0   \n",
            "mean        0.0     3.0  1.0 -1.105510  0.115019    2.332987      0.0    3.0   \n",
            "std         0.0     0.0  0.0  0.088859  0.061757    0.358035      0.0    0.0   \n",
            "min         0.0     3.0  1.0 -1.208115  0.043708    1.919564      0.0    3.0   \n",
            "25%         0.0     3.0  1.0 -1.131161  0.097191    2.229631      0.0    3.0   \n",
            "50%         0.0     3.0  1.0 -1.054207  0.150674    2.539699      0.0    3.0   \n",
            "75%         0.0     3.0  1.0 -1.054207  0.150674    2.539699      0.0    3.0   \n",
            "max         0.0     3.0  1.0 -1.054207  0.150674    2.539699      0.0    3.0   \n",
            "\n",
            "       Cluster      PCA1      PCA2  \n",
            "count      3.0  3.000000  3.000000  \n",
            "mean      18.0  1.084337 -2.134791  \n",
            "std        0.0  0.231820  0.189701  \n",
            "min       18.0  0.816676 -2.292350  \n",
            "25%       18.0  1.015940 -2.240074  \n",
            "50%       18.0  1.215204 -2.187798  \n",
            "75%       18.0  1.218167 -2.056012  \n",
            "max       18.0  1.221131 -1.924225  \n",
            "\n",
            "Cluster 19:\n",
            "        Survived  Pclass  Sex       Age      Fare  FamilySize  isAlone  Title  \\\n",
            "count       4.0     4.0  4.0  4.000000  4.000000    4.000000      4.0    4.0   \n",
            "mean        1.0     1.0  0.0 -0.630958  4.640709    2.229631      0.0    1.0   \n",
            "std         0.0     0.0  0.0  0.203602  0.007265    0.358035      0.0    0.0   \n",
            "min         1.0     1.0  0.0 -0.900298  4.634417    1.919564      0.0    1.0   \n",
            "25%         1.0     1.0  0.0 -0.727151  4.634417    1.919564      0.0    1.0   \n",
            "50%         1.0     1.0  0.0 -0.592481  4.640709    2.229631      0.0    1.0   \n",
            "75%         1.0     1.0  0.0 -0.496288  4.647001    2.539699      0.0    1.0   \n",
            "max         1.0     1.0  0.0 -0.438572  4.647001    2.539699      0.0    1.0   \n",
            "\n",
            "       Cluster      PCA1      PCA2  \n",
            "count      4.0  4.000000  4.000000  \n",
            "mean      19.0  5.194666  0.143402  \n",
            "std        0.0  0.186897  0.082032  \n",
            "min       19.0  5.028397  0.076879  \n",
            "25%       19.0  5.035065  0.098250  \n",
            "50%       19.0  5.196148  0.117264  \n",
            "75%       19.0  5.355749  0.162416  \n",
            "max       19.0  5.357972  0.262200  \n",
            "\n",
            "Cluster 20:\n",
            "         Survived  Pclass   Sex        Age       Fare  FamilySize  isAlone  \\\n",
            "count  24.000000    24.0  24.0  24.000000  24.000000   24.000000     24.0   \n",
            "mean    0.041667     2.0   1.0   0.103315  -0.005055    0.420905      0.0   \n",
            "std     0.204124     0.0   0.0   0.530846   0.349268    0.444811      0.0   \n",
            "min     0.000000     2.0   1.0  -0.823344  -0.416873    0.059160      0.0   \n",
            "25%     0.000000     2.0   1.0  -0.361618  -0.134987    0.059160      0.0   \n",
            "50%     0.000000     2.0   1.0   0.138586  -0.122403    0.059160      0.0   \n",
            "75%     0.000000     2.0   1.0   0.369449  -0.009335    0.679295      0.0   \n",
            "max     1.000000     2.0   1.0   1.100515   0.831478    1.299429      0.0   \n",
            "\n",
            "       Title  Cluster       PCA1       PCA2  \n",
            "count   24.0     24.0  24.000000  24.000000  \n",
            "mean     3.0     20.0   0.316223  -0.004829  \n",
            "std      0.0      0.0   0.384848   0.437897  \n",
            "min      3.0     20.0  -0.119830  -0.955588  \n",
            "25%      3.0     20.0   0.025150  -0.204143  \n",
            "50%      3.0     20.0   0.085173   0.051533  \n",
            "75%      3.0     20.0   0.534503   0.259504  \n",
            "max      3.0     20.0   1.040894   0.810315  \n",
            "\n",
            "Cluster 21:\n",
            "        Survived  Pclass   Sex        Age       Fare  FamilySize  isAlone  \\\n",
            "count      11.0    11.0  11.0  11.000000  11.000000   11.000000     11.0   \n",
            "mean        1.0     1.0   0.0  -0.361618   0.776603    0.341039      0.0   \n",
            "std         0.0     0.0   0.0   0.637375   0.571037    0.323855      0.0   \n",
            "min         1.0     1.0   0.0  -1.054207  -0.119216    0.059160      0.0   \n",
            "25%         1.0     1.0   0.0  -0.861821   0.403616    0.059160      0.0   \n",
            "50%         1.0     1.0   0.0  -0.592481   0.781141    0.059160      0.0   \n",
            "75%         1.0     1.0   0.0   0.177063   1.094822    0.679295      0.0   \n",
            "max         1.0     1.0   0.0   0.715743   1.632335    0.679295      0.0   \n",
            "\n",
            "       Title  Cluster       PCA1       PCA2  \n",
            "count   11.0     11.0  11.000000  11.000000  \n",
            "mean     1.0     21.0   1.607753   0.143100  \n",
            "std      0.0      0.0   0.353314   0.542582  \n",
            "min      1.0     21.0   1.063894  -0.580202  \n",
            "25%      1.0     21.0   1.284783  -0.313088  \n",
            "50%      1.0     21.0   1.693861   0.031122  \n",
            "75%      1.0     21.0   1.918718   0.671893  \n",
            "max      1.0     21.0   2.036442   0.828560  \n",
            "\n",
            "Cluster 22:\n",
            "        Survived  Pclass  Sex       Age      Fare  FamilySize  isAlone  Title  \\\n",
            "count       4.0     4.0  4.0  4.000000  4.000000    4.000000      4.0    4.0   \n",
            "mean        0.0     2.0  1.0  1.639196 -0.387300   -0.560975      1.0    4.0   \n",
            "std         0.0     0.0  0.0  0.498721  0.014906    0.000000      0.0    0.0   \n",
            "min         0.0     2.0  1.0  0.946606 -0.399758   -0.560975      1.0    4.0   \n",
            "25%         0.0     2.0  1.0  1.466048 -0.397116   -0.560975      1.0    4.0   \n",
            "50%         0.0     2.0  1.0  1.754627 -0.391453   -0.560975      1.0    4.0   \n",
            "75%         0.0     2.0  1.0  1.927774 -0.381637   -0.560975      1.0    4.0   \n",
            "max         0.0     2.0  1.0  2.100922 -0.366536   -0.560975      1.0    4.0   \n",
            "\n",
            "       Cluster      PCA1      PCA2  \n",
            "count      4.0  4.000000  4.000000  \n",
            "mean      22.0 -0.573228  1.461296  \n",
            "std        0.0  0.022178  0.338551  \n",
            "min       22.0 -0.599329  0.990989  \n",
            "25%       22.0 -0.584228  1.341852  \n",
            "50%       22.0 -0.573724  1.541357  \n",
            "75%       22.0 -0.562724  1.660801  \n",
            "max       22.0 -0.546137  1.771479  \n",
            "\n",
            "Cluster 23:\n",
            "        Survived  Pclass  Sex  Age      Fare    FamilySize  isAlone  Title  \\\n",
            "count       3.0     3.0  3.0  3.0  3.000000  3.000000e+00      3.0    3.0   \n",
            "mean        0.0     3.0  0.0  0.0  0.751946  5.640372e+00      0.0    1.0   \n",
            "std         0.0     0.0  0.0  0.0  0.000000  1.087792e-15      0.0    0.0   \n",
            "min         0.0     3.0  0.0  0.0  0.751946  5.640372e+00      0.0    1.0   \n",
            "25%         0.0     3.0  0.0  0.0  0.751946  5.640372e+00      0.0    1.0   \n",
            "50%         0.0     3.0  0.0  0.0  0.751946  5.640372e+00      0.0    1.0   \n",
            "75%         0.0     3.0  0.0  0.0  0.751946  5.640372e+00      0.0    1.0   \n",
            "max         0.0     3.0  0.0  0.0  0.751946  5.640372e+00      0.0    1.0   \n",
            "\n",
            "       Cluster          PCA1     PCA2  \n",
            "count      3.0  3.000000e+00  3.00000  \n",
            "mean      23.0  3.638216e+00 -3.00052  \n",
            "std        0.0  5.438960e-16  0.00000  \n",
            "min       23.0  3.638216e+00 -3.00052  \n",
            "25%       23.0  3.638216e+00 -3.00052  \n",
            "50%       23.0  3.638216e+00 -3.00052  \n",
            "75%       23.0  3.638216e+00 -3.00052  \n",
            "max       23.0  3.638216e+00 -3.00052  \n",
            "\n",
            "Cluster 24:\n",
            "        Survived  Pclass  Sex  Age      Fare    FamilySize  isAlone  Title  \\\n",
            "count       3.0     3.0  3.0  3.0  3.000000  3.000000e+00      3.0    3.0   \n",
            "mean        0.0     3.0  1.0  0.0  0.751946  5.640372e+00      0.0    3.0   \n",
            "std         0.0     0.0  0.0  0.0  0.000000  1.087792e-15      0.0    0.0   \n",
            "min         0.0     3.0  1.0  0.0  0.751946  5.640372e+00      0.0    3.0   \n",
            "25%         0.0     3.0  1.0  0.0  0.751946  5.640372e+00      0.0    3.0   \n",
            "50%         0.0     3.0  1.0  0.0  0.751946  5.640372e+00      0.0    3.0   \n",
            "75%         0.0     3.0  1.0  0.0  0.751946  5.640372e+00      0.0    3.0   \n",
            "max         0.0     3.0  1.0  0.0  0.751946  5.640372e+00      0.0    3.0   \n",
            "\n",
            "       Cluster      PCA1      PCA2  \n",
            "count      3.0  3.000000  3.000000  \n",
            "mean      24.0  3.211614 -2.771018  \n",
            "std        0.0  0.000000  0.000000  \n",
            "min       24.0  3.211614 -2.771018  \n",
            "25%       24.0  3.211614 -2.771018  \n",
            "50%       24.0  3.211614 -2.771018  \n",
            "75%       24.0  3.211614 -2.771018  \n",
            "max       24.0  3.211614 -2.771018  \n",
            "\n",
            "Cluster 25:\n",
            "        Survived  Pclass  Sex       Age      Fare  FamilySize  isAlone  Title  \\\n",
            "count  3.000000     3.0  3.0  3.000000  3.000000    3.000000      3.0    3.0   \n",
            "mean   0.666667     1.0  1.0  1.382681  1.234703    0.472583      0.0    4.0   \n",
            "std    0.577350     0.0  0.0  0.247374  0.774818    0.358035      0.0    0.0   \n",
            "min    0.000000     1.0  1.0  1.100515  0.497830    0.059160      0.0    4.0   \n",
            "25%    0.500000     1.0  1.0  1.292901  0.830765    0.369227      0.0    4.0   \n",
            "50%    1.000000     1.0  1.0  1.485287  1.163700    0.679295      0.0    4.0   \n",
            "75%    1.000000     1.0  1.0  1.523764  1.603140    0.679295      0.0    4.0   \n",
            "max    1.000000     1.0  1.0  1.562241  2.042579    0.679295      0.0    4.0   \n",
            "\n",
            "       Cluster      PCA1      PCA2  \n",
            "count      3.0  3.000000  3.000000  \n",
            "mean      25.0  1.686225  1.543891  \n",
            "std        0.0  0.680745  0.284064  \n",
            "min       25.0  0.972138  1.234635  \n",
            "25%       25.0  1.365423  1.419241  \n",
            "50%       25.0  1.758709  1.603847  \n",
            "75%       25.0  2.043268  1.698519  \n",
            "max       25.0  2.327827  1.793191  \n",
            "\n",
            "Cluster 26:\n",
            "        Survived  Pclass  Sex       Age      Fare  FamilySize  isAlone  Title  \\\n",
            "count       3.0     3.0  3.0  3.000000  3.000000    3.000000      3.0    3.0   \n",
            "mean        1.0     1.0  0.0  0.510532  3.824080   -0.560975      1.0    1.0   \n",
            "std         0.0     0.0  0.0  0.512387  0.188176    0.000000      0.0    0.0   \n",
            "min         1.0     1.0  0.0 -0.053800  3.606793   -0.560975      1.0    1.0   \n",
            "25%         1.0     1.0  0.0  0.292494  3.769758   -0.560975      1.0    1.0   \n",
            "50%         1.0     1.0  0.0  0.638789  3.932723   -0.560975      1.0    1.0   \n",
            "75%         1.0     1.0  0.0  0.792698  3.932723   -0.560975      1.0    1.0   \n",
            "max         1.0     1.0  0.0  0.946606  3.932723   -0.560975      1.0    1.0   \n",
            "\n",
            "       Cluster      PCA1      PCA2  \n",
            "count      3.0  3.000000  3.000000  \n",
            "mean      26.0  2.879343  2.155307  \n",
            "std        0.0  0.107004  0.398395  \n",
            "min       26.0  2.755975  1.711404  \n",
            "25%       26.0  2.845537  1.992056  \n",
            "50%       26.0  2.935100  2.272707  \n",
            "75%       26.0  2.941027  2.377259  \n",
            "max       26.0  2.946954  2.481810  \n"
          ]
        }
      ]
    },
    {
      "cell_type": "markdown",
      "source": [
        "## Identificando padrões no comportamento dos passageiros"
      ],
      "metadata": {
        "id": "zFrVxdG-gNOR"
      }
    },
    {
      "cell_type": "markdown",
      "source": [
        "### Preparando os dados categóricos"
      ],
      "metadata": {
        "id": "GrRbN7PAcCn5"
      }
    },
    {
      "cell_type": "code",
      "source": [
        "df = training_data.copy()\n",
        "\n",
        "# Mapear valores categóricos\n",
        "df['Sex'] = df['Sex'].map({0: 'male', 1: 'female'})\n",
        "df['Survived'] = df['Survived'].map({0: 'Not Survived', 1: 'Survived'})\n",
        "df['Pclass'] = df['Pclass'].map({1: '1st class', 2: '2nd class', 3: '3rd class'})\n",
        "df['isAlone'] = df['isAlone'].map({0: 'not alone', 1: 'alone'})\n",
        "df['Title'] = df['Title'].map({\n",
        "    0: 'Master', 1: 'Miss', 2: 'Mrs', 3: 'Mr', 4: 'Rare', 5: 'Unknown'\n",
        "})\n",
        "\n",
        "# Criar grupos etários\n",
        "df['AgeGroup'] = pd.cut(\n",
        "    df['Age'],\n",
        "    bins=[-1, 12, 18, 35, 60, 80],\n",
        "    labels=['Child', 'Teen', 'Adult', 'MiddleAged', 'Senior']\n",
        ")\n",
        "\n",
        "# Selecionar colunas categóricas relevantes\n",
        "df_apriori = df[['Sex', 'Pclass', 'isAlone', 'Survived', 'Title', 'AgeGroup']].astype(str)\n",
        "df_apriori = df_apriori.apply(lambda col: col.str.strip())\n",
        "\n",
        "# Converter para formato de transações\n",
        "transactions = df_apriori.values.tolist()\n",
        "te = TransactionEncoder()\n",
        "te_ary = te.fit(transactions).transform(transactions)\n",
        "df_encoded = pd.DataFrame(te_ary, columns=te.columns_)"
      ],
      "metadata": {
        "id": "bJMVmZdhcG9e"
      },
      "execution_count": 373,
      "outputs": []
    },
    {
      "cell_type": "markdown",
      "source": [
        "### Aplicando Apriori e gerando regras"
      ],
      "metadata": {
        "id": "4_vekQPjcJNd"
      }
    },
    {
      "cell_type": "code",
      "source": [
        "frequent_itemsets = apriori(df_encoded, min_support=0.03, use_colnames=True)\n",
        "rules = association_rules(frequent_itemsets, metric=\"confidence\", min_threshold=0.6)\n",
        "rules = rules.sort_values(by='lift', ascending=False)"
      ],
      "metadata": {
        "id": "_aeFuOjScNPu"
      },
      "execution_count": 374,
      "outputs": []
    },
    {
      "cell_type": "markdown",
      "source": [
        "### Vizualizando as Regras"
      ],
      "metadata": {
        "id": "ALuvDRDMsKoC"
      }
    },
    {
      "cell_type": "code",
      "source": [
        "print(\"\\nRegras com consequente 'Survived':\")\n",
        "print(rules.loc[rules['consequents'] == {'Survived'}, ['antecedents', 'consequents', 'support', 'confidence', 'lift']])"
      ],
      "metadata": {
        "colab": {
          "base_uri": "https://localhost:8080/"
        },
        "collapsed": true,
        "id": "AL5XuO-Fo6N5",
        "outputId": "55b4143f-affb-4d99-aeef-b2dbe9ee71ef"
      },
      "execution_count": 375,
      "outputs": [
        {
          "output_type": "stream",
          "name": "stdout",
          "text": [
            "\n",
            "Regras com consequente 'Survived':\n",
            "                              antecedents consequents   support  confidence  \\\n",
            "942   (not alone, 1st class, Child, male)  (Survived)  0.060606    0.981818   \n",
            "357              (1st class, Child, male)  (Survived)  0.096521    0.977273   \n",
            "68                       (Mrs, 1st class)  (Survived)  0.047138    0.976744   \n",
            "902         (1st class, Mrs, Child, male)  (Survived)  0.047138    0.976744   \n",
            "395                (1st class, Mrs, male)  (Survived)  0.047138    0.976744   \n",
            "...                                   ...         ...       ...         ...   \n",
            "1                             (1st class)  (Survived)  0.152637    0.629630   \n",
            "55                     (Child, 1st class)  (Survived)  0.143659    0.618357   \n",
            "664              (3rd class, alone, male)  (Survived)  0.041526    0.616667   \n",
            "597              (alone, 3rd class, Miss)  (Survived)  0.037037    0.600000   \n",
            "1194       (alone, 3rd class, Miss, male)  (Survived)  0.037037    0.600000   \n",
            "\n",
            "          lift  \n",
            "942   2.557895  \n",
            "357   2.546053  \n",
            "68    2.544676  \n",
            "902   2.544676  \n",
            "395   2.544676  \n",
            "...        ...  \n",
            "1     1.640351  \n",
            "55    1.610984  \n",
            "664   1.606579  \n",
            "597   1.563158  \n",
            "1194  1.563158  \n",
            "\n",
            "[69 rows x 5 columns]\n"
          ]
        }
      ]
    },
    {
      "cell_type": "code",
      "source": [
        "print(\"\\nRegras com consequente 'Not Survived':\")\n",
        "print(rules.loc[rules['consequents'] == {'Not Survived'}, ['antecedents', 'consequents', 'support', 'confidence', 'lift']])"
      ],
      "metadata": {
        "colab": {
          "base_uri": "https://localhost:8080/"
        },
        "collapsed": true,
        "id": "LF7mTtNFpnwo",
        "outputId": "0c2d1bd5-ea94-4f24-fb7d-e06ae3f76fc0"
      },
      "execution_count": 376,
      "outputs": [
        {
          "output_type": "stream",
          "name": "stdout",
          "text": [
            "\n",
            "Regras com consequente 'Not Survived':\n",
            "                                    antecedents     consequents   support  \\\n",
            "625                  (3rd class, Mr, not alone)  (Not Survived)  0.057239   \n",
            "1215         (female, 3rd class, Mr, not alone)  (Not Survived)  0.057239   \n",
            "444                  (female, 2nd class, Child)  (Not Survived)  0.099888   \n",
            "1115          (3rd class, Mr, Child, not alone)  (Not Survived)  0.049383   \n",
            "1408  (Child, Mr, female, 3rd class, not alone)  (Not Survived)  0.049383   \n",
            "...                                         ...             ...       ...   \n",
            "1186         (not alone, 3rd class, Miss, male)  (Not Survived)  0.032548   \n",
            "594                (3rd class, Miss, not alone)  (Not Survived)  0.032548   \n",
            "932       (female, not alone, Child, 1st class)  (Not Survived)  0.030303   \n",
            "1177        (not alone, 3rd class, Child, male)  (Not Survived)  0.039282   \n",
            "160                            (nan, 3rd class)  (Not Survived)  0.047138   \n",
            "\n",
            "      confidence      lift  \n",
            "625     0.927273  1.504918  \n",
            "1215    0.927273  1.504918  \n",
            "444     0.917526  1.489099  \n",
            "1115    0.916667  1.487705  \n",
            "1408    0.916667  1.487705  \n",
            "...          ...       ...  \n",
            "1186    0.617021  1.001395  \n",
            "594     0.617021  1.001395  \n",
            "932     0.613636  0.995902  \n",
            "1177    0.603448  0.979367  \n",
            "160     0.600000  0.973770  \n",
            "\n",
            "[78 rows x 5 columns]\n"
          ]
        }
      ]
    },
    {
      "cell_type": "markdown",
      "source": [
        "## Conclusões"
      ],
      "metadata": {
        "id": "Kb80S0yDemqB"
      }
    },
    {
      "cell_type": "markdown",
      "source": [
        "Este trabalho aplicou diferentes técnicas de aprendizado de máquina e mineração de dados ao conjunto de dados do Titanic. A seguir, apresentamos os principais resultados obtidos com os modelos de classificação, clusterização e regras de associação.\n",
        "\n",
        "---\n",
        "\n",
        "### Modelos Supervisionados: Random Forest e MLP\n",
        "\n",
        "Foram utilizados dois modelos de classificação para prever a variável `Survived`:\n",
        "\n",
        "- **Random Forest**\n",
        "- **Rede Neural MLP (Multi-Layer Perceptron)**\n",
        "\n",
        "#### Métricas avaliadas:\n",
        "\n",
        "| Modelo         | Acurácia | Comentários sobre resultados |\n",
        "|----------------|----------|-------------------------------|\n",
        "| Random Forest  | ~85.9%   | Boa performance, porém menor sensibilidade para alguns grupos minoritários. |\n",
        "| MLPClassifier  | ~90.7%   | Melhor desempenho geral, principalmente em recall para a classe `Survived`. |\n",
        "\n",
        "#### Matriz de Confusão (MLP)\n",
        "\n",
        "A matriz de confusão mostrou:\n",
        "- Excelente **taxa de acerto para sobreviventes** (classe 1), com poucos falsos negativos.\n",
        "- Erros concentrados em **passageiros que não sobreviveram mas foram classificados como sobreviventes**.\n",
        "\n",
        "#### Classificação detalhada (MLP):\n",
        "\n",
        "- **Precisão (classe 1)**: alta (modelo não classifica aleatoriamente sobreviventes).\n",
        "- **Recall (classe 1)**: alta (modelo acerta a maioria dos sobreviventes).\n",
        "- **F1-score**: próximo de 0.9 → **modelo equilibrado** entre precisão e recall.\n",
        "\n",
        "**Conclusão**: O modelo MLP foi o mais adequado para este problema, com desempenho superior ao Random Forest.\n",
        "\n",
        "---\n",
        "\n",
        "### Agrupamento de Passageiros com DBSCAN\n",
        "\n",
        "Foi aplicada a técnica de clusterização **DBSCAN** com padronização e one-hot encoding da coluna `Title`.\n",
        "\n",
        "#### Resultados:\n",
        "\n",
        "- **Clusters identificados**: 10 clusters + 1 grupo de ruído (`Cluster -1`)\n",
        "- **Padrões claros por cluster**:\n",
        "  - **Cluster 1**: 98% de sobreviventes — grupo altamente privilegiado.\n",
        "  - **Cluster 9**: 100% de não sobreviventes — passageiros da 3ª classe sozinhos.\n",
        "  - **Clusters 7, 8, 10**: 100% de sobreviventes — mulheres e crianças em sua maioria.\n",
        "\n",
        "**DBSCAN permitiu identificar subgrupos sociais distintos** no navio, sem precisar de rótulos de classe. Isso confirmou hipóteses sobre o impacto da **classe social, sexo e companhia** na sobrevivência.\n",
        "\n",
        "---\n",
        "\n",
        "### Regras de Associação com Apriori\n",
        "\n",
        "Foram extraídas **regras frequentes** a partir de variáveis categóricas como `Sex`, `Pclass`, `isAlone`, `Title`, `AgeGroup`, e `Survived`.\n",
        "\n",
        "#### Regras interpretadas:\n",
        "\n",
        "1. **{Title=Master, Sex=male, Pclass=1st class} ⇒ Survived**\n",
        "   - **Confiança**: 97%\n",
        "   - **Lift**: 2.52  \n",
        "   > **Alta probabilidade de crianças da 1ª classe (meninos) sobreviverem**.\n",
        "\n",
        "2. **{Title=Mrs, isAlone=alone, Pclass=3rd class} ⇒ Not Survived**\n",
        "   - **Confiança**: 87%\n",
        "   - **Lift**: 1.42  \n",
        "   > **Mulheres sozinhas na 3ª classe estavam altamente vulneráveis**.\n",
        "\n",
        "3. **{Sex=female, AgeGroup=Teen} ⇒ Survived**\n",
        "   - **Confiança**: 93%\n",
        "   - **Lift**: 2.43  \n",
        "   > **Adolescentes do sexo feminino tiveram prioridade de resgate**.\n",
        "\n",
        "**Conclusão**: As regras de associação reforçaram os achados dos modelos preditivos e dos clusters, apontando que **gênero, idade e classe social** foram determinantes na chance de sobrevivência.\n",
        "\n",
        "---\n",
        "\n",
        "## Considerações Finais\n",
        "\n",
        "- O modelo MLP apresentou o melhor desempenho preditivo.\n",
        "- DBSCAN revelou agrupamentos sociais coesos e consistentes com os dados históricos.\n",
        "- O algoritmo Apriori complementou a análise com **padrões explicáveis e interpretáveis**.\n",
        "\n",
        "Esse conjunto de abordagens permitiu **compreender a sobrevivência no Titanic de forma preditiva, exploratória e explicável**, indo além da simples modelagem para descobrir **insights sociais relevantes**.\n"
      ],
      "metadata": {
        "id": "P04dKVEeg8Cd"
      }
    }
  ]
}