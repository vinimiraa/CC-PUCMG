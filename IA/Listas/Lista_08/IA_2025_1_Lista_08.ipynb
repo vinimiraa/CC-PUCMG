{
  "nbformat": 4,
  "nbformat_minor": 0,
  "metadata": {
    "colab": {
      "provenance": []
    },
    "kernelspec": {
      "name": "python3",
      "display_name": "Python 3"
    },
    "language_info": {
      "name": "python"
    }
  },
  "cells": [
    {
      "cell_type": "markdown",
      "source": [
        "**Inteligência Artifical**\n",
        "\n",
        "**812839 - Vinícius Miranda de Araújo**\n",
        "\n",
        "**Lista de Exercícios 08**\n",
        "\n",
        "---\n",
        "---"
      ],
      "metadata": {
        "id": "3CrMSJRWIPSq"
      }
    },
    {
      "cell_type": "markdown",
      "source": [
        "## **Questão 1**\n",
        "\n",
        "---"
      ],
      "metadata": {
        "id": "czg-w3lmLC9w"
      }
    },
    {
      "cell_type": "markdown",
      "source": [
        "**1.** Algoritmo de Busca em Largura\n",
        "\n",
        "  - Ordem de Visitação = {A, B, C, D, E, F, G, H, I}\n",
        "\n",
        "  - Caminho Solução = {A, B, E, I}\n",
        "\n",
        "  - Não possui heurística\n",
        "\n",
        "**2.** Algoritmo de Busca em Profundidade\n",
        "\n",
        "  - Ordem de Visitação = {A, B, D, E, H, I}\n",
        "\n",
        "  - Caminho Solução = {A, B, E, I}\n",
        "\n",
        "  - Não possui heurística\n",
        "\n",
        "**3.** Custo Uniforme\n",
        "\n",
        "  - Ordem de Visitação = {A, C, B, E, F, G, D, K}\n",
        "\n",
        "  - Caminho Solução = {A, C, G, K}\n",
        "\n",
        "  - Não possui heurística\n",
        "\n",
        "**4.** Algoritmo de Busca Gulosa\n",
        "\n",
        "  - Ordem de Visitação = {A, B, E, I}\n",
        "\n",
        "  - Caminho Solução = {A, B, E, I}\n",
        "\n",
        "  - A heurística é admissível\n",
        "\n",
        "**5.** Algoritmo A*\n",
        "\n",
        "  - Ordem de Visitação = {A, B, E, C, G, K}\n",
        "\n",
        "  - Caminho Solução = {A, C, G, K}\n",
        "\n",
        "  - A heurística é admissível"
      ],
      "metadata": {
        "id": "EICnDOD_Luhb"
      }
    },
    {
      "cell_type": "markdown",
      "source": [
        "## **Questão 2**\n",
        "\n",
        "---"
      ],
      "metadata": {
        "id": "rjJoZggILdjf"
      }
    },
    {
      "cell_type": "markdown",
      "source": [
        "**1.** Sim, a heurística de Manhattan é admissível. A distância de Manhattan calcula, para cada peça, o número de movimentos horizontais e verticais necessários para que ela alcance sua posição correta ignorando colisões com outras peças. Ela nunca superestima o custo real, porque o custo mínimo para mover uma peça é, no melhor caso, exatamente a quantidade de passos Manhattan. Portanto, como $h(n) \\le h^*(n)$ para todo $n$, a heurística é admissível.\n",
        "\n",
        "**2.** Número de peças fora do lugar, semelhante a ideia de Distância Hamming. Nessa heurística seria contabilizada quantas peças estão fora de sua posição correta, sem considerar o espaço vazio.\n",
        "\n",
        "> Exemplo: se 3 peças estão fora do lugar, $h(n) = 3$.\n",
        "\n",
        "  - Essa heurística seria admissível porque o número de peças fora do lugar representa o mínimo número de movimentos necessários para colocá-las no lugar, considerando apenas um movimento por peça."
      ],
      "metadata": {
        "id": "kFYS8GlrYk4X"
      }
    },
    {
      "cell_type": "markdown",
      "source": [
        "## **Questão 3**\n",
        "\n",
        "---"
      ],
      "metadata": {
        "id": "9gEw6U_9Ldwy"
      }
    },
    {
      "cell_type": "markdown",
      "source": [
        "**Letra  B**\n",
        "\n",
        "I. A primeira solução encontrada pela estratégia de busca em largura é a solução ótima.\n",
        "\n",
        "> VERDADEIRO. Em problemas onde todas as ações têm o mesmo custo, a busca em largura (BFS) expande os nós por níveis (menor profundidade primeiro).\n",
        "Assim, a primeira solução encontrada será a que exige o menor número de ações, ou seja, uma solução ótima (de menor custo).\n",
        "\n",
        "II. A primeira solução encontrada pela estratégia de busca em profundidade é a solução ótima.\n",
        "\n",
        "> FALSO. A busca em profundidade (DFS) explora caminhos profundamente antes de explorar alternativas, podendo encontrar uma solução profunda e longe do ótimo.\n",
        "Ela não garante que a primeira solução encontrada será a melhor.\n",
        "\n",
        "III. As estratégias de busca com informação usam funções heurísticas que, quando bem definidas, permitem melhorar a eficiência da busca.\n",
        "\n",
        "> VERDADEIRO. Busca com informação (como A* e busca gulosa) utiliza funções heurísticas para orientar a busca em direção ao objetivo.\n",
        "Quando a heurística é bem escolhida (informativa e admissível), ela reduz o número de nós explorados, aumentando a eficiência da busca.\n",
        "\n",
        "IV. A estratégia de busca gulosa é eficiente porque expande apenas os nós que estão no caminho da solução.\n",
        "\n",
        "> FALSO. A busca gulosa prioriza nós com menor valor heurístico, mas não garante que esses nós estejam realmente no caminho da solução. Ela pode desviar e explorar caminhos errados se a heurística for mal definida.\n",
        "Portanto, não é verdade que ela expande apenas nós no caminho da solução."
      ],
      "metadata": {
        "id": "pGkD1QQ2cIq_"
      }
    },
    {
      "cell_type": "markdown",
      "source": [
        "## **Questão 4**\n",
        "\n",
        "---"
      ],
      "metadata": {
        "id": "a9YSQEvJLd1d"
      }
    },
    {
      "cell_type": "markdown",
      "source": [
        "**Letra A**\n",
        "\n",
        "Utilizando o algoritmo de Busca em Largura e partindo do vértice A, a ordem de visitação é: {A, B, C, D, E, F}"
      ],
      "metadata": {
        "id": "8pzG0YXlczMa"
      }
    },
    {
      "cell_type": "markdown",
      "source": [
        "## **Questão 5**\n",
        "\n",
        "---"
      ],
      "metadata": {
        "id": "nz3DyBF_Ld5l"
      }
    },
    {
      "cell_type": "markdown",
      "source": [
        "**Letra E**\n",
        "\n",
        "I. A estratégia de busca em largura encontra a solução ótima quando todos os operadores de mudança de estado têm o mesmo custo.\n",
        "\n",
        "> VERDADEIRO. A busca em largura (BFS) expande os nós em ordem de profundidade. Quando todos os custos são iguais, o caminho com menos ações será o de menor custo, ou seja, a primeira solução encontrada será a ótima.\n",
        "\n",
        "II. A estratégia de busca em profundidade sempre expande um menor número de nós que a estratégia de busca em largura, quando aplicadas ao mesmo problema.\n",
        "\n",
        "> FALSO. A busca em profundidade pode até expandir menos nós em alguns casos, mas não é garantido que sempre o faça. Ela pode entrar em caminhos profundos desnecessariamente e explorar muitos nós inúteis antes de achar a solução, enquanto a BFS explora niveladamente.\n",
        "\n",
        "III. A estratégia de busca heurística encontra sempre a solução de menor custo.\n",
        "\n",
        "> FALSO. Depende da estratégia. Por exemplo, a busca gulosa não garante solução ótima. Apenas algoritmos como A\\* garantem solução ótima, desde que a heurística seja admissível e consistente.\n",
        "\n",
        "IV. A estratégia de busca heurística expande um número de nós em geral menor que o algoritmo de busca em largura, mas não garante encontrar a solução ótima.\n",
        "\n",
        "> VERDADEIRO. Isso descreve bem a busca gulosa: usa heurísticas para ser mais eficiente que a BFS, mas pode não encontrar a melhor solução, pois ignora o custo acumulado.\n",
        "\n",
        "V. O algoritmo de busca heurística que utiliza uma função heurística admissível encontra a solução ótima.\n",
        "\n",
        "> VERDADEIRO. Esse é o caso do A\\*: se a heurística é admissível (nunca superestima o custo real), então o A\\* encontra a solução ótima."
      ],
      "metadata": {
        "id": "P06GDhtGfOfJ"
      }
    },
    {
      "cell_type": "markdown",
      "source": [
        "## **Questão 6**\n",
        "\n",
        "---"
      ],
      "metadata": {
        "id": "P5_FWt-qLd-2"
      }
    },
    {
      "cell_type": "markdown",
      "source": [
        "**Letra A**\n",
        "\n",
        "a) a busca gulosa minimiza $h(n)$.\n",
        "\n",
        "> VERDADEIRO. A busca gulosa escolhe o nó com menor h(n)\n",
        "\n",
        "b) a busca A* minimiza $h(n)$.\n",
        "\n",
        "> FALSO. A busca A* minimiza o custo total estimado f(n) = g(n) + h(n), não h(n).\n",
        "\n",
        "c) a busca de custo uniforme minimiza $h(n)$.\n",
        "\n",
        "> FALSO. A busca de custo uniforme não usa h(n), ela minimiza g(n).\n",
        "\n",
        "d) a busca gulosa minimiza $h(n)$ somente se a heurística for admissível.\n",
        "\n",
        "> FALSO. A busca gulosa sempre tenta minimizar h(n), independentemente de ser admissível. Mas não garante solução ótima.\n",
        "\n",
        "d) a busca A* minimiza $h(n)$ somente se a heurística for admissível.\n",
        "\n",
        "> FALSO. A busca A* minimiza o custo total estimado f(n) = g(n) + h(n), não h(n)."
      ],
      "metadata": {
        "id": "j3sYTLlEhGlG"
      }
    },
    {
      "cell_type": "markdown",
      "source": [
        "## **Questão 7**\n",
        "\n",
        "---"
      ],
      "metadata": {
        "id": "VP7palbWLeGe"
      }
    },
    {
      "cell_type": "markdown",
      "source": [
        "**Letra B**\n",
        "\n",
        "a) $\\exists n → h(n) \\le h^r(n)$\n",
        "\n",
        "> FALSO. Deve valer para todos os nós, não apenas um.\n",
        "\n",
        "b) $\\forall n → h(n) \\le h^r(n)$\n",
        "\n",
        "> VERDADEIRO. Definição correta de heurística admissível (nunca superestima o custo real).\n",
        "\n",
        "c) $\\exists n → h(n) > h^r(n)$\n",
        "\n",
        "> FALSO. Deve valer para todos os nós, não apenas um e contradiz a definição, não pode haver superestimação em nenhum caso.\n",
        "\n",
        "d) $\\exists n → h(n) > h^r(n)$\n",
        "\n",
        "> FALSO. Deve valer para todos os nós, não apenas um e contradiz a definição, não pode haver superestimação em nenhum caso.\n",
        "\n",
        "e) $\\exists n → h(n) < h^r(n)$\n",
        "\n",
        "> FALSO. Deve valer para todos os nós, não apenas um e contradiz a definição, não pode haver superestimação em nenhum caso."
      ],
      "metadata": {
        "id": "bT2Cp9WZjBJX"
      }
    },
    {
      "cell_type": "markdown",
      "source": [
        "## **Questão 8**\n",
        "\n",
        "---"
      ],
      "metadata": {
        "id": "ed7N8DMZLmmL"
      }
    },
    {
      "cell_type": "markdown",
      "source": [
        "**Letra D**\n",
        "\n",
        "A ordem de visitação, utilizando o algoritmo de busca em largura, seria = {A, B, C, D, E, F}. Portanto, o caminho solução seria = {A, C, F}"
      ],
      "metadata": {
        "id": "VZELHGFE_S2u"
      }
    },
    {
      "cell_type": "markdown",
      "source": [
        "## **Questão 9**\n",
        "\n",
        "---"
      ],
      "metadata": {
        "id": "5etwMRS8Lmx8"
      }
    },
    {
      "cell_type": "markdown",
      "source": [
        "$$f(n) = (2 – w).g(n) + w.h(n)$$\n",
        "\n",
        "Quando $w = 0$:\n",
        "\n",
        "$$f(n) = (2 – w).g(n) + w.h(n)$$\n",
        "\n",
        "$$f(n) = (2 - 0).g(n) + 0.h(n)$$\n",
        "\n",
        "$$f(n) = 2.g(n)$$\n",
        "\n",
        "> Realiza a Busca Custo Uniforme.\n",
        "\n",
        "Quando $w = 1$:\n",
        "\n",
        "$$f(n) = (2 – w).g(n) + w.h(n)$$\n",
        "\n",
        "$$f(n) = (2 - 1).g(n) + 1.h(n)$$\n",
        "\n",
        "$$f(n) = g(n) + h(n)$$\n",
        "\n",
        "> Realiza a Busca A*.\n",
        "\n",
        "Quando $w = 2$:\n",
        "\n",
        "$$f(n) = (2 – w).g(n) + w.h(n)$$\n",
        "\n",
        "$$f(n) = (2 - 2).g(n) + 2.h(n)$$\n",
        "\n",
        "$$f(n) = 2.h(n)$$\n",
        "\n",
        "> Realiza a Busca Gulosa."
      ],
      "metadata": {
        "id": "B9fC6T1U_-5m"
      }
    },
    {
      "cell_type": "markdown",
      "source": [
        "## **Questão 10**\n",
        "\n",
        "---"
      ],
      "metadata": {
        "id": "rMdxgWC5Lm46"
      }
    },
    {
      "cell_type": "markdown",
      "source": [
        "1. Em relação à busca A*:\n",
        "\n",
        "  1. Ordem de Visitação:\n",
        "  \n",
        "    - h0 = {S, B, D, C, A, G}\n",
        "\n",
        "    - h1 = {S, B, C, G}\n",
        "\n",
        "    - h2 = {S, B, D, G}\n",
        "\n",
        "  2. Caminho Solução:\n",
        "\n",
        "    - h0 = {S, B, C, G}\n",
        "\n",
        "    - h1 = {S, B, C, G}\n",
        "\n",
        "    - h2 = {S, B, D, G}\n",
        "\n",
        "  3. Todas as heurísticas são admissíveis.\n",
        "\n",
        "2. Em relação à busca Gulosa:\n",
        "\n",
        "  1. Ordem de Visitação:\n",
        "\n",
        "    - h0 = {S, A, G}\n",
        "\n",
        "    - h1 = {S, A, G}\n",
        "\n",
        "    - h2 = {S, B, D, G}\n",
        "\n",
        "  2. Caminho Solução:\n",
        "\n",
        "    - h0 = {S, B, C, G}\n",
        "\n",
        "    - h1 = {S, A, G}\n",
        "\n",
        "    - h2 = {S, B, D, G}\n",
        "\n",
        "3. Em relação à busca em Profundidade:\n",
        "\n",
        "  1. Ordem de Visitação:\n",
        "\n",
        "    - v = {S, A, G}\n",
        "\n",
        "  2. Caminho Solução:\n",
        "\n",
        "    - s = {S, A, G}\n",
        "\n",
        "4. Em relação à busca em Largura:\n",
        "\n",
        "  1. Ordem de Visitação:\n",
        "\n",
        "    - v = {S, A, B, G}\n",
        "\n",
        "  2. Caminho Solução:\n",
        "\n",
        "    - s = {S, A, G}\n"
      ],
      "metadata": {
        "id": "Dc27wH96B12F"
      }
    },
    {
      "cell_type": "markdown",
      "source": [
        "## **Questão 11**\n",
        "\n",
        "---"
      ],
      "metadata": {
        "id": "IiQIrjWBLnaL"
      }
    },
    {
      "cell_type": "markdown",
      "source": [
        "**Letra E**\n",
        "\n",
        "Fazendo a soma das peças que são diferentes entre todos:\n",
        "\n",
        "- E1:\n",
        "\n",
        "  - d(1) = 3\n",
        "  - d(7) = 2\n",
        "  - d(8) = 2\n",
        "  - soma = 7\n",
        "\n",
        "- E2:\n",
        "\n",
        "  - d(1) = 3\n",
        "  - d(7) = 3\n",
        "  - d(8) = 1\n",
        "  - soma = 7\n",
        "\n",
        "- E3:\n",
        "\n",
        "  - d(1) = 3\n",
        "  - d(6) = 1\n",
        "  - d(7) = 2\n",
        "  - d(8) = 1\n",
        "  - soma = 7\n",
        "\n",
        "> Portanto, ambas assertivas são falsas, dado que todos os 3 estados tem soma das distâncias iguais, assim é possível ir do E0 para qualquer E (E1, E2 ou E3)."
      ],
      "metadata": {
        "id": "VNlyUZ4HOBAW"
      }
    },
    {
      "cell_type": "markdown",
      "source": [
        "## **Questão 12**\n",
        "\n",
        "---"
      ],
      "metadata": {
        "id": "1V7pvMX7Lnoz"
      }
    },
    {
      "cell_type": "markdown",
      "source": [
        "a) ![espaco_estados_1_a_15.png](data:image/png;base64,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)"
      ],
      "metadata": {
        "id": "1u2ecolMROf7"
      }
    },
    {
      "cell_type": "markdown",
      "source": [
        "b) Odem de Visitação:\n",
        "\n",
        "  - Usando Busca por Extensão (Largura):\n",
        "    \n",
        "    v = {1, 2, 3, 4, 5, 6, 7, 8, 9 , 10, 11}\n",
        "\n",
        "  - Usando Busca em Profundidade Limitada (limite = 3):\n",
        "\n",
        "    v = {1, 2, 4, 8, 9, 5, 10, 11}\n",
        "\n",
        "  - Usando Busca em Profundidade Iterativa:\n",
        "\n",
        "    1: 1,\n",
        "    \n",
        "    2: 1, 2, 3,\n",
        "    \n",
        "    3: 1, 2, 4, 5, 3, 6, 7,\n",
        "    \n",
        "    4: 1, 2, 4, 8, 9, 5, 10, 11\n",
        "\n",
        "    v = {1, 2, 3, 4, 5, 6, 7, 8, 9, 10, 11}\n",
        "\n",
        "> Sobre Profundidade Iterativa e Limitada: https://slideplayer.com.br/slide/2751384/"
      ],
      "metadata": {
        "id": "rg6NlEjfRatK"
      }
    },
    {
      "cell_type": "markdown",
      "source": [
        "## **Questão 13**\n",
        "\n",
        "---"
      ],
      "metadata": {
        "id": "hCzzOEBNLnxg"
      }
    },
    {
      "cell_type": "markdown",
      "source": [
        "1. Vantagens:\n",
        "\n",
        "  - Ótimo (se a heurística for admissível).\n",
        "\n",
        "  - Completo (se custo mínimo > 0).\n",
        "\n",
        "  - Pode ser mais eficiente que BFS ou DFS.\n",
        "\n",
        "  - Com uma heurística bem desenhada, encontra soluções rápidas e boas.\n",
        "\n",
        "2. Desvantagens:\n",
        "\n",
        "  - Uso intensivo de memória: A* guarda todos os nós gerados.\n",
        "\n",
        "  - Pode ser lento se a heurística for ruim (piora para BFS).\n",
        "\n",
        "  - Difícil criar uma boa heurística em muitos problemas."
      ],
      "metadata": {
        "id": "lheETYVNTDnG"
      }
    },
    {
      "cell_type": "markdown",
      "source": [
        "## **Questão 14**\n",
        "\n",
        "---"
      ],
      "metadata": {
        "id": "7rUuZas-Ln6X"
      }
    },
    {
      "cell_type": "markdown",
      "source": [
        "- IDA\\* (Iterative Deepening A\\*)\n",
        "  \n",
        "  - Combina A\\* com busca em profundidade iterativa.\n",
        "\n",
        "  - Usa menos memória.\n",
        "\n",
        "  - Ideal para grandes espaços de estados.\n",
        "\n",
        "- RBFS (Recursive Best-First Search)\n",
        "  \n",
        "  - Usa recursão e backtracking, mantendo apenas os caminhos necessários na memória.\n",
        "\n",
        "  - Menor uso de memória que A\\*.\n",
        "\n",
        "- Memory-Bounded A\\* (como MA\\*, SMA\\*)\n",
        "  \n",
        "  - Limitam o uso de memória explicitamente.\n",
        "\n",
        "  - Trocam nós menos promissores quando falta espaço.\n",
        "\n",
        "- WA\\* (Weighted A\\*)\n",
        "  \n",
        "  - Usa $f(n) = g(n) + w * h(n)$, com $w > 1$.\n",
        "\n",
        "  - Mais rápido, mas não garante solução ótima se $w ≠ 1$."
      ],
      "metadata": {
        "id": "mc3fLnN0TPcy"
      }
    },
    {
      "cell_type": "markdown",
      "source": [
        "---\n",
        "FIM"
      ],
      "metadata": {
        "id": "oP11y-zBVrfR"
      }
    }
  ]
}